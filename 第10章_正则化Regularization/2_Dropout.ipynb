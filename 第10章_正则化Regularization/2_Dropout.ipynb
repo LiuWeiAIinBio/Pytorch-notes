{
 "cells": [
  {
   "cell_type": "markdown",
   "id": "e13d57c4-3571-4af2-afba-b42371a73e49",
   "metadata": {},
   "source": [
    "# Dropout\n",
    "\n",
    "Dropout 是另一种抑制过拟合的方法，按照一定概率（dropout probability）让神经网络的一部分神经元失活（weight = 0），这就可以减轻对某些神经元的过度的依赖（权值 weight 很大），从而缓解过拟合，降低方差，达到正则化效果。由于神经网络的神经元失活是随机的，所以我们的模型也会变得多样化。\n",
    "\n",
    "`torch.nn.Dropout(p=0.5, inplace=False)`\n",
    "\n",
    "**参数：**\n",
    "- p：被舍弃的概率，也叫失活概率\n",
    "\n",
    "在使用 dropout 时，数据尺度会发生变化，如果设置 dropout_prob = 0.3，那么在 model.train() 训练时，数据尺度会变为原来的 70%；而在执行 model.eval() 测试时，dropout 是关闭的。**为了使数据尺度一致，在 Pytorch 中，在 model.train() 训练时，dropout 层会把所有权值乘以 1/(1-dropout_prob)**。通过这种方式，在测试时就不用对权值进行缩放，加快了测试的速度。\n",
    "\n",
    "**PyTorch 中 Dropout 层通常放在需要 dropout 那一层的前面：**\n",
    "\n",
    "```\n",
    "class MLP(nn.Module):\n",
    "    def __init__(self, neural_num, d_prob=0.5):\n",
    "        super(MLP, self).__init__()\n",
    "        self.linears = nn.Sequential(\n",
    "\n",
    "            nn.Linear(1, neural_num),\n",
    "            nn.ReLU(inplace=True),\n",
    "\n",
    "            nn.Dropout(d_prob),\n",
    "            nn.Linear(neural_num, neural_num),\n",
    "            nn.ReLU(inplace=True),\n",
    "\n",
    "            nn.Dropout(d_prob),\n",
    "            nn.Linear(neural_num, neural_num),\n",
    "            nn.ReLU(inplace=True),\n",
    "\n",
    "            nn.Dropout(d_prob),\n",
    "            nn.Linear(neural_num, 1),\n",
    "        )\n",
    "\n",
    "    def forward(self, x):\n",
    "        return self.linears(x)\n",
    "\n",
    "neural_num = 10000\n",
    "x = torch.ones((neural_num, ), dtype=torch.float32)\n",
    "net = MLP(neural_num, d_prob=0.5)\n",
    "\n",
    "net.train()\n",
    "y = net(x)\n",
    "print(\"output in training mode\", y)\n",
    "\n",
    "net.eval()\n",
    "y = net(x)\n",
    "print(\"output in eval mode\", y)\n",
    "```"
   ]
  }
 ],
 "metadata": {
  "kernelspec": {
   "display_name": "Python 3 (ipykernel)",
   "language": "python",
   "name": "python3"
  },
  "language_info": {
   "codemirror_mode": {
    "name": "ipython",
    "version": 3
   },
   "file_extension": ".py",
   "mimetype": "text/x-python",
   "name": "python",
   "nbconvert_exporter": "python",
   "pygments_lexer": "ipython3",
   "version": "3.9.13"
  }
 },
 "nbformat": 4,
 "nbformat_minor": 5
}
