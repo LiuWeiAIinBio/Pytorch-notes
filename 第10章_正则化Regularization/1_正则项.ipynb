{
 "cells": [
  {
   "cell_type": "markdown",
   "id": "fbfaa9c4-9d5b-47a0-977a-7e4ebea2055f",
   "metadata": {},
   "source": [
    "# 正则项\n",
    "\n",
    "**在目标函数中添加正则项是一个有效的抑制过拟合的方法，正则项有 L1 和 L2 正则项两种：**\n",
    "- L1 正则项：$\\sum\\boldsymbol|{w}_{i}|$，使用 L1 正则项会产生稀疏参数值（有 0 值的出现）\n",
    "- L2 正则项：$\\sum\\boldsymbol{w}_{i}^{2}$， L2 正则项又被称为权值衰减(weight decay)\n",
    "\n",
    "**在 Pytorch 中，一般在优化器中设置权值衰减 weight_decay（即 L2 正则项），例如：**\n",
    "\n",
    "`torch.optim.SGD(params, lr, momentum=0, dampening=0, weight_decay=0, nesterov=False)`\n",
    "\n",
    "- weight_decay：L2 正则化系数，默认为 0"
   ]
  }
 ],
 "metadata": {
  "kernelspec": {
   "display_name": "Python 3 (ipykernel)",
   "language": "python",
   "name": "python3"
  },
  "language_info": {
   "codemirror_mode": {
    "name": "ipython",
    "version": 3
   },
   "file_extension": ".py",
   "mimetype": "text/x-python",
   "name": "python",
   "nbconvert_exporter": "python",
   "pygments_lexer": "ipython3",
   "version": "3.9.13"
  }
 },
 "nbformat": 4,
 "nbformat_minor": 5
}
