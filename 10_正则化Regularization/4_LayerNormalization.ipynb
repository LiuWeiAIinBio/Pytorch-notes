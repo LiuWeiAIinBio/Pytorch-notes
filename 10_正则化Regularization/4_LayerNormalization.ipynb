{
 "cells": [
  {
   "cell_type": "markdown",
   "id": "3ce68edb-124a-494b-84b6-52388c2e0c49",
   "metadata": {},
   "source": [
    "# Layer Normalization\n",
    "\n",
    "**原理**：逐样本计算均值和方差\n",
    "\n",
    "![](./图片2.png)\n",
    "\n",
    "**RNN 和 Transformer 使用 Layer Normalization，而不是 Batch Normalization**：因为 Layer Normalization 只需使用当前样本的数据，不需要使用其他样本的数据；而 Batch Normalization 需要使用该 Batch 所有样本的数据。\n",
    "\n",
    "**`ln = torch.nn.LayerNorm(normalized_shape, eps=1e-05, elementwise_affine=True)`**\n",
    "- normalized_shape：指定要归一化的维度，为列表形式；对于一个多维矩阵 `[B, C, H, W]`，normalized_shape 一般要和矩阵最后几个维度保持一致，这里就是 `[C, H, W]` 或 `[H, W]` 或 `[W]`，γ 和 β 的维度分别是 `[C, H, W]` 或 `[H, W]` 或 `[W]`。\n",
    "- eps：在进行标准化操作时的分母修正项，默认值很小，是为了避免分母为 0\n",
    "- elementwise_affine：是否需要逐个样本 affine transform\n",
    "\n",
    "**注意**：ln 不再有属性 running_mean 和 running_var\n",
    "\n",
    "在上图中， Layer Normalization 子图归一化的维度为 `[Feature]`，Batch Normalization 子图归一化的维度为 `[Batch Dimension, Sentence Lenth]`\n",
    "\n",
    "**下面代码中，输入数据的形状是 (8, 4, 3, 2, 2)，batch_size 为 8，normalized_shape 为 `[4, 3, 2, 2]`，那么就会计算 8 个均值和方差，分别对应每个样本；此外可以观察一下 weight 和 bias 的 shape**："
   ]
  },
  {
   "cell_type": "code",
   "execution_count": 1,
   "id": "83e7fd1b-1856-4881-8dda-209e3aaf6270",
   "metadata": {},
   "outputs": [
    {
     "name": "stdout",
     "output_type": "stream",
     "text": [
      "torch.Size([4, 3, 2, 2])\n",
      "torch.Size([4, 3, 2, 2])\n"
     ]
    }
   ],
   "source": [
    "import torch\n",
    "import torch.nn as nn\n",
    "\n",
    "# 假设输入数据的形状是 (batch_size, num_features, features_channels, features_length, features_width)，创建一个输入张量\n",
    "batch_size = 8\n",
    "num_features = 4\n",
    "features_channels = 3\n",
    "features_length = 2\n",
    "features_width = 2\n",
    "input_tensor = torch.randn(batch_size, num_features, features_channels, features_length, features_width)\n",
    "\n",
    "# 创建一个 LayerNorm 模块\n",
    "ln = nn.LayerNorm([num_features, features_channels, features_length, features_width])\n",
    "\n",
    "# 应用 BatchNorm3d\n",
    "normalized_tensor = ln(input_tensor)\n",
    "\n",
    "print(ln.weight.shape)\n",
    "print(ln.bias.shape)"
   ]
  }
 ],
 "metadata": {
  "kernelspec": {
   "display_name": "Python 3 (ipykernel)",
   "language": "python",
   "name": "python3"
  },
  "language_info": {
   "codemirror_mode": {
    "name": "ipython",
    "version": 3
   },
   "file_extension": ".py",
   "mimetype": "text/x-python",
   "name": "python",
   "nbconvert_exporter": "python",
   "pygments_lexer": "ipython3",
   "version": "3.9.13"
  }
 },
 "nbformat": 4,
 "nbformat_minor": 5
}
