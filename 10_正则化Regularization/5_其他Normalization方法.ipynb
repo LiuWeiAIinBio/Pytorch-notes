{
 "cells": [
  {
   "cell_type": "markdown",
   "id": "e5c8f288-a4d3-4cb5-a3ba-8f6de667dd75",
   "metadata": {},
   "source": [
    "# 1. Instance Normalization\n",
    "\n",
    "**提出的原因**：Batch Normalization 不适用于图像生成。因为在一个 mini-batch 中的图像有不同的风格，不能把这个 batch 里的数据都看作是同一类取标准化。\n",
    "\n",
    "**思路**：逐个 instance 的 channel 计算均值和方差。也就是每个 feature map 计算一个均值和方差。\n",
    "\n",
    "包括 InstanceNorm1d、InstanceNorm2d、InstanceNorm3d。\n",
    "\n",
    "**以 InstanceNorm1d 为例介绍参数**：\n",
    "\n",
    "`in = torch.nn.InstanceNorm1d(num_features, eps=1e-05, momentum=0.1, affine=False, track_running_stats=False)`\n",
    "\n",
    "参数：\n",
    "- num_features：一个样本的特征数，这个参数最重要\n",
    "- eps：分母修正项\n",
    "- momentum：指数加权平均估计当前的的均值和方差\n",
    "- affine：是否需要 affine transform\n",
    "- track_running_stats：True 为训练状态，此时均值和方差会根据每个 mini-batch 改变。False 为测试状态，此时均值和方差会固定\n",
    "\n",
    "若输入数据的形状是 $B \\times C \\times 2Dfeature$，例如 (3, 3, 2, 2)，表示一个 mini-batch 有 3 个样本，每个样本有 3 个特征，每个特征的维度是 $2 \\times 2 $。那么就会计算 $3 \\times 3 $ 个均值和方差，分别对应每个样本的每个特征。\n",
    "\n",
    "\n",
    "# 2. Group Normalization\n",
    "\n",
    "**提出的原因**：在小 batch 的样本中，Batch Normalization 估计的值不准。\n",
    "\n",
    "**思路**：数据不够，通道来凑。每个样本的特征分为几组，每组特征分别计算均值和方差。可以看作是 Layer Normalization 的基础上添加了特征分组。\n",
    "\n",
    "**注意事项**：\n",
    "- 不再有 running_mean 和 running_var\n",
    "- $\\gamma$ 和 $\\beta$ 为逐通道的\n",
    "\n",
    "**介绍参数**：\n",
    "\n",
    "`gn = torch.nn.GroupNorm(num_groups, num_channels, eps=1e-05, affine=True)`\n",
    "\n",
    "参数：\n",
    "- num_groups：特征的分组数量\n",
    "- num_channels：特征数，通道数。注意 num_channels 要可以整除 num_groups\n",
    "- eps：分母修正项\n",
    "- affine：是否需要 affine transform\n",
    "\n",
    "若输入数据的形状是 $B \\times C \\times 2Dfeature$，例如 (2, 4, 3, 3)，表示一个 mini-batch 有 2 个样本，每个样本有 4 个特征，每个特征的维度是 $3 \\times 3 $。num_groups 设置为 2，那么就会计算 $2 \\times (4 \\div 2) $ 个均值和方差，分别对应每个样本的每个特征。"
   ]
  }
 ],
 "metadata": {
  "kernelspec": {
   "display_name": "Python 3 (ipykernel)",
   "language": "python",
   "name": "python3"
  },
  "language_info": {
   "codemirror_mode": {
    "name": "ipython",
    "version": 3
   },
   "file_extension": ".py",
   "mimetype": "text/x-python",
   "name": "python",
   "nbconvert_exporter": "python",
   "pygments_lexer": "ipython3",
   "version": "3.9.13"
  }
 },
 "nbformat": 4,
 "nbformat_minor": 5
}
