{
 "cells": [
  {
   "cell_type": "markdown",
   "id": "1e3cb799-86d4-4454-b1b5-f8d7cc1cdb32",
   "metadata": {},
   "source": [
    "**1. 由于 PyTorch 是基于动态图实现的，因此在一次迭代运算结束后，一些中间变量如非叶子节点的梯度和特征图，会被释放掉。如果想要获取这些中间变量，就需要使用 Hook 函数，Hook 函数可以在不改变主体的情况下，实现额外功能，像一个钩子 hook。**\n",
    "\n",
    "**2. PyTorch 提供了 4 种 Hook 函数：**\n",
    "- `torch.Tensor.register_hook(hook)`：注册一个反向传播 hook 函数，获取张量的梯度。\n",
    "- `torch.nn.Module.register_forward_hook(hook)`：注册 module 的前向传播 hook 函数，用于获取中间的 feature map。\n",
    "- `torch.Tensor.register_forward_pre_hook()`：注册 module 的前向传播前的 hook 函数，可用于获取输入数据。\n",
    "- `torch.Tensor.register_backward_hook()`：注册 module 的反向传播的 hook 函数，可用于获取梯度。\n",
    "\n",
    "\n",
    "**3. hook函数实现机制**：hook 函数实现的原理是在 module 的 `__call()__` 函数进行拦截，获取相应的量。"
   ]
  }
 ],
 "metadata": {
  "kernelspec": {
   "display_name": "Python 3 (ipykernel)",
   "language": "python",
   "name": "python3"
  },
  "language_info": {
   "codemirror_mode": {
    "name": "ipython",
    "version": 3
   },
   "file_extension": ".py",
   "mimetype": "text/x-python",
   "name": "python",
   "nbconvert_exporter": "python",
   "pygments_lexer": "ipython3",
   "version": "3.9.13"
  }
 },
 "nbformat": 4,
 "nbformat_minor": 5
}
