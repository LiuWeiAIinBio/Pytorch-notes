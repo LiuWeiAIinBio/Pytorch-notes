{
 "cells": [
  {
   "cell_type": "markdown",
   "id": "d9f2e142-4f3a-4d56-9726-4d8f784c0a6d",
   "metadata": {},
   "source": [
    "**1. nn.CrossEntropyLoss(weight=None, ignore_index=-100, reduction='mean')**\n",
    "\n",
    "功能：把 nn.LogSoftmax() 和 nn.NLLLoss() 结合，计算交叉熵。nn.LogSoftmax() 的作用是把输出值归一化到了 `[0,1]` 之间。\n",
    "\n",
    "主要参数：\n",
    "- weight：各样本的 loss 设置权值\n",
    "- ignore_index：忽略某个样本的 loss 计算\n",
    "- reduction：计算模式，可以为 none(输出逐个元素的 loss)，sum(对各元素的 loss 求和，返回标量)，mean(对各元素的 loss 求加权平均，返回标量)，默认为 mean\n",
    "\n",
    "在 mean 计算模式下，如果设置了 weight 权值，分母是权值份数之和，而不是样本数。\n",
    "\n",
    "<br/>\n",
    "\n",
    "**2. nn.BCELoss(weight=None, reduction='mean')**\n",
    "\n",
    "功能：计算二分类的交叉熵。\n",
    "\n",
    "输入到损失函数的值（即预测的输出值）需要经过 sigmoid 变换到 `[0,1]` 之间；真实的标签值需要转换为 one-hot 向量。\n",
    "\n",
    "<br/>\n",
    "\n",
    "**3. nn.MSELoss(reduction='mean')**\n",
    "\n",
    "功能：计算 inputs 与 target 之差的平方\n",
    "\n",
    "<br/>\n",
    "\n",
    "**4. nn.L1Loss(reduction='mean')**\n",
    "\n",
    "功能：计算 inputs 与 target 之差的绝对值"
   ]
  },
  {
   "cell_type": "code",
   "execution_count": null,
   "id": "bef40daf-8636-472a-9a0e-041d49adfbde",
   "metadata": {},
   "outputs": [],
   "source": []
  }
 ],
 "metadata": {
  "kernelspec": {
   "display_name": "Python 3 (ipykernel)",
   "language": "python",
   "name": "python3"
  },
  "language_info": {
   "codemirror_mode": {
    "name": "ipython",
    "version": 3
   },
   "file_extension": ".py",
   "mimetype": "text/x-python",
   "name": "python",
   "nbconvert_exporter": "python",
   "pygments_lexer": "ipython3",
   "version": "3.9.13"
  }
 },
 "nbformat": 4,
 "nbformat_minor": 5
}
