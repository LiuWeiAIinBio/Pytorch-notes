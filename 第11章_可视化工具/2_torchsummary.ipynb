{
 "cells": [
  {
   "cell_type": "markdown",
   "id": "b6824bd6-93c5-4bd0-a7d8-88219a01a518",
   "metadata": {},
   "source": [
    "```\n",
    "from torchsummary import summary\n",
    "summary(model, input_size, batch_size=-1, device=\"cuda\")\n",
    "```\n",
    "**功能**：`torchsummary()` 能够查看模型的输入和输出的形状，便于调试。\n",
    "\n",
    "**主要参数**：\n",
    "- model：继承自 nn.Module 的 pytorch 模型\n",
    "- input_size：模型输入 size，形状为 CHW\n",
    "- batch_size：默认为 -1，在展示模型每层输出的形状时显示的 batch_size\n",
    "- device：\"cuda\"或者\"cpu\"\n",
    "\n",
    "**查看 LeNet 的模型信息代码如下**：\n",
    "```\n",
    "pip install torchsummary\n",
    "from torchsummary import summary\n",
    "\n",
    "lenet = LeNet(classes=2)\n",
    "print(summary(lenet, (3, 32, 32), device=\"cpu\"))\n",
    "```"
   ]
  }
 ],
 "metadata": {
  "kernelspec": {
   "display_name": "Python 3 (ipykernel)",
   "language": "python",
   "name": "python3"
  },
  "language_info": {
   "codemirror_mode": {
    "name": "ipython",
    "version": 3
   },
   "file_extension": ".py",
   "mimetype": "text/x-python",
   "name": "python",
   "nbconvert_exporter": "python",
   "pygments_lexer": "ipython3",
   "version": "3.9.13"
  }
 },
 "nbformat": 4,
 "nbformat_minor": 5
}
