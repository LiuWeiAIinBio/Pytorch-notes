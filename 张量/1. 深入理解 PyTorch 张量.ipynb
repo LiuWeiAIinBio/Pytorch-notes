{
 "cells": [
  {
   "cell_type": "markdown",
   "metadata": {},
   "source": [
    "# 1. Python 列表 VS PyTorch 张量"
   ]
  },
  {
   "cell_type": "raw",
   "metadata": {},
   "source": [
    "Python 列表或数字元组是在内存中单独分配的 Python 对象的集合，是装箱数值，Python 对象的开销比较大。\n",
    "\n",
    "PyTorch 张量是使用 C++ 编写的，它们直接映射到底层的 C 内存块，是连续内存块的视图，PyTorch 张量存储的是未装箱的 C 数字类型，而不是 Python 对象，避免了 Python 对象的开销，使得 PyTorch 张量在进行大规模数值计算时非常高效。NumPy 数组存储的也是未装箱的 C 数字类型。\n",
    "\n",
    "Python 对象的开销：主要指的是在 Python 中创建和管理对象时所涉及的额外资源和时间消耗，比如存储对象的元数据（如引用计数、类型信息等）的内存开销，以及动态类型检查的性能开销。"
   ]
  },
  {
   "cell_type": "markdown",
   "metadata": {},
   "source": [
    "# 2. 创建一个张量"
   ]
  },
  {
   "cell_type": "code",
   "execution_count": 1,
   "metadata": {},
   "outputs": [
    {
     "data": {
      "text/plain": [
       "tensor([[4., 1.],\n",
       "        [5., 3.],\n",
       "        [2., 1.]])"
      ]
     },
     "execution_count": 1,
     "metadata": {},
     "output_type": "execute_result"
    }
   ],
   "source": [
    "import torch\n",
    "points = torch.tensor([[4.0, 1.0], [5.0, 3.0], [2.0, 1.0]])\n",
    "points"
   ]
  },
  {
   "cell_type": "markdown",
   "metadata": {},
   "source": [
    "# 3. PyTorch 张量的存储区"
   ]
  },
  {
   "cell_type": "raw",
   "metadata": {},
   "source": [
    "张量的存储区是由数字组成的一维数组，即包含给定类型的数字的连续内存块。"
   ]
  },
  {
   "cell_type": "code",
   "execution_count": 2,
   "metadata": {},
   "outputs": [
    {
     "name": "stderr",
     "output_type": "stream",
     "text": [
      "C:\\Users\\24606\\AppData\\Local\\Temp\\ipykernel_14512\\4262897667.py:2: UserWarning: TypedStorage is deprecated. It will be removed in the future and UntypedStorage will be the only storage class. This should only matter to you if you are using storages directly.  To access UntypedStorage directly, use tensor.untyped_storage() instead of tensor.storage()\n",
      "  points.storage()\n"
     ]
    },
    {
     "data": {
      "text/plain": [
       " 4.0\n",
       " 1.0\n",
       " 5.0\n",
       " 3.0\n",
       " 2.0\n",
       " 1.0\n",
       "[torch.storage.TypedStorage(dtype=torch.float32, device=cpu) of size 6]"
      ]
     },
     "execution_count": 2,
     "metadata": {},
     "output_type": "execute_result"
    }
   ],
   "source": [
    "# 可以使用 storage() 访问张量的存储区\n",
    "points.storage()"
   ]
  },
  {
   "cell_type": "code",
   "execution_count": 3,
   "metadata": {},
   "outputs": [
    {
     "data": {
      "text/plain": [
       "4.0"
      ]
     },
     "execution_count": 3,
     "metadata": {},
     "output_type": "execute_result"
    }
   ],
   "source": [
    "# 使用索引访问存储区的一维数组\n",
    "points.storage()[0]"
   ]
  },
  {
   "cell_type": "code",
   "execution_count": 4,
   "metadata": {},
   "outputs": [
    {
     "data": {
      "text/plain": [
       " 4.0\n",
       " 8.0\n",
       " 5.0\n",
       " 3.0\n",
       " 2.0\n",
       " 1.0\n",
       "[torch.storage.TypedStorage(dtype=torch.float32, device=cpu) of size 6]"
      ]
     },
     "execution_count": 4,
     "metadata": {},
     "output_type": "execute_result"
    }
   ],
   "source": [
    "# 修改存储区的值\n",
    "points.storage()[1] = 8\n",
    "points.storage()"
   ]
  },
  {
   "cell_type": "markdown",
   "metadata": {},
   "source": [
    "# 4. 张量的数字类型"
   ]
  },
  {
   "cell_type": "raw",
   "metadata": {},
   "source": [
    "张量内的对象必须都是相同类型的数字\n",
    "\n",
    "张量的默认数据类型是 32 位浮点数\n",
    "\n",
    "多种数字类型的张量在一起运算时，输入会自动向较大类型转换。\n",
    "\n",
    "构造张量时使用 dtype 指定数字类型，dtype 参数的可能取值：\n",
    "torch.float32 或 torch.float： 32 位浮点数\n",
    "torch.float64 或 torch.double： 64 位双精度浮点数\n",
    "torch.float16 或 torch.half： 16 位半精度浮点数\n",
    "torch.int8： 8 位有符号整数\n",
    "torch.uint8： 8 位无符号整数\n",
    "torch.int16 或 torch.short： 16 位有符号整数\n",
    "torch.int32 或 torch.int： 32 位有符号整数\n",
    "torch.int64 或 torch.long： 64 位有符号整数\n",
    "torch.bool：布尔型"
   ]
  },
  {
   "cell_type": "code",
   "execution_count": 5,
   "metadata": {},
   "outputs": [
    {
     "data": {
      "text/plain": [
       "torch.float32"
      ]
     },
     "execution_count": 5,
     "metadata": {},
     "output_type": "execute_result"
    }
   ],
   "source": [
    "# 张量的默认数据类型是 32 位浮点数\n",
    "points.dtype"
   ]
  },
  {
   "cell_type": "code",
   "execution_count": 6,
   "metadata": {},
   "outputs": [
    {
     "data": {
      "text/plain": [
       "(torch.float64, torch.int16)"
      ]
     },
     "execution_count": 6,
     "metadata": {},
     "output_type": "execute_result"
    }
   ],
   "source": [
    "# 构造张量时使用 dtype 指定数字类型\n",
    "double_points = torch.ones(10, 2, dtype=torch.double)\n",
    "short_points = torch.tensor([[1, 2], [3, 4]], dtype=torch.short)\n",
    "double_points.dtype, short_points.dtype"
   ]
  },
  {
   "cell_type": "code",
   "execution_count": 7,
   "metadata": {},
   "outputs": [
    {
     "data": {
      "text/plain": [
       "torch.float64"
      ]
     },
     "execution_count": 7,
     "metadata": {},
     "output_type": "execute_result"
    }
   ],
   "source": [
    "# 使用 to() 方法将张量创建函数的输出转换为正确的类型\n",
    "double_points = torch.ones(10, 2).to(dtype=torch.double)\n",
    "double_points.dtype\n",
    "\n",
    "# 在底层，to() 方法会检查转换是否是必要的，如果必要，则执行转换。"
   ]
  },
  {
   "cell_type": "markdown",
   "metadata": {},
   "source": [
    "# 5. 将张量存储到 GPU 上"
   ]
  },
  {
   "cell_type": "code",
   "execution_count": 8,
   "metadata": {},
   "outputs": [],
   "source": [
    "# 在 GPU 上创建一个张量\n",
    "# points_gpu = torch.tensor([[4.0, 1.0], [5.0, 3.0], [2.0, 1.0]], device='cuda')"
   ]
  },
  {
   "cell_type": "code",
   "execution_count": 9,
   "metadata": {},
   "outputs": [],
   "source": [
    "# 使用 to() 方法将在 CPU 上创建的张量复制到 GPU 上\n",
    "# points_gpu = points.to(device='cuda')"
   ]
  },
  {
   "cell_type": "markdown",
   "metadata": {},
   "source": [
    "# 6. to() 方法"
   ]
  },
  {
   "cell_type": "code",
   "execution_count": 10,
   "metadata": {},
   "outputs": [
    {
     "data": {
      "text/plain": [
       "torch.float64"
      ]
     },
     "execution_count": 10,
     "metadata": {},
     "output_type": "execute_result"
    }
   ],
   "source": [
    "# 使用 to() 方法将张量创建函数的输出转换为正确的类型\n",
    "double_points = torch.ones(10, 2).to(dtype=torch.double)\n",
    "double_points.dtype\n",
    "\n",
    "# 在底层，to() 方法会检查转换是否是必要的，如果必要，则执行转换。"
   ]
  },
  {
   "cell_type": "code",
   "execution_count": 11,
   "metadata": {},
   "outputs": [],
   "source": [
    "# 使用 to() 方法将在 CPU 上创建的张量复制到 GPU 上\n",
    "# points_gpu = points.to(device='cuda')"
   ]
  },
  {
   "cell_type": "code",
   "execution_count": 12,
   "metadata": {},
   "outputs": [],
   "source": [
    "# 通过 device 和 dtype 参数同时更改位置和数据类型\n",
    "# double_points_gpu = torch.ones(10, 2).to(device='cuda', dtype=torch.double)"
   ]
  },
  {
   "cell_type": "markdown",
   "metadata": {},
   "source": [
    "# 7. PyTorch 张量和 NumPy 数组的互相转换"
   ]
  },
  {
   "cell_type": "raw",
   "metadata": {},
   "source": [
    "PyTorch 张量的默认数据类型是 32 位浮点数，而 NumPy 数组的默认数据类型是 64 位浮点数。"
   ]
  },
  {
   "cell_type": "code",
   "execution_count": 13,
   "metadata": {},
   "outputs": [
    {
     "data": {
      "text/plain": [
       "dtype('float64')"
      ]
     },
     "execution_count": 13,
     "metadata": {},
     "output_type": "execute_result"
    }
   ],
   "source": [
    "import numpy as np\n",
    "A = np.ones((3, 2))\n",
    "A.dtype"
   ]
  },
  {
   "cell_type": "code",
   "execution_count": 14,
   "metadata": {},
   "outputs": [
    {
     "data": {
      "text/plain": [
       "tensor([[1., 1.],\n",
       "        [1., 1.],\n",
       "        [1., 1.]], dtype=torch.float64)"
      ]
     },
     "execution_count": 14,
     "metadata": {},
     "output_type": "execute_result"
    }
   ],
   "source": [
    "# 将 NumPy 数组转为 PyTorch 张量\n",
    "A_tensor = torch.from_numpy(A)\n",
    "A_tensor  # dtype=torch.float64"
   ]
  },
  {
   "cell_type": "raw",
   "metadata": {},
   "source": [
    "从 torch.from_numpy 创建的 tensor 与原 ndarray 共享内存，当修改其中一方的数据时，另外一方的数据也将被改动。"
   ]
  },
  {
   "cell_type": "code",
   "execution_count": 15,
   "metadata": {},
   "outputs": [
    {
     "name": "stdout",
     "output_type": "stream",
     "text": [
      "tensor([[1., 1.],\n",
      "        [1., 1.],\n",
      "        [1., 1.]], dtype=torch.float64)\n",
      "tensor([[2., 1.],\n",
      "        [1., 1.],\n",
      "        [1., 1.]], dtype=torch.float64)\n"
     ]
    }
   ],
   "source": [
    "print(A_tensor)\n",
    "\n",
    "# 修改 A，看 A_tensor 是否变化\n",
    "A[0, 0] = 2\n",
    "print(A_tensor)"
   ]
  },
  {
   "cell_type": "code",
   "execution_count": 16,
   "metadata": {},
   "outputs": [
    {
     "data": {
      "text/plain": [
       "torch.float32"
      ]
     },
     "execution_count": 16,
     "metadata": {},
     "output_type": "execute_result"
    }
   ],
   "source": [
    "# 我们需要确保转换得到的张量的数据类型是 32 位浮点数（torch.float32）（张量的默认数据类型）\n",
    "A_tensor = torch.from_numpy(A).to(dtype=torch.float32)\n",
    "A_tensor.dtype"
   ]
  },
  {
   "cell_type": "code",
   "execution_count": 17,
   "metadata": {},
   "outputs": [
    {
     "data": {
      "text/plain": [
       "array([[4., 8.],\n",
       "       [5., 3.],\n",
       "       [2., 1.]], dtype=float32)"
      ]
     },
     "execution_count": 17,
     "metadata": {},
     "output_type": "execute_result"
    }
   ],
   "source": [
    "# 将 PyTorch 张量转为 NumPy 数组\n",
    "points_np = points.numpy()\n",
    "points_np"
   ]
  },
  {
   "cell_type": "markdown",
   "metadata": {},
   "source": [
    "# 8. 给张量数据添加一个新的维度：批次维度，批次大小为1"
   ]
  },
  {
   "cell_type": "code",
   "execution_count": 18,
   "metadata": {},
   "outputs": [
    {
     "data": {
      "text/plain": [
       "tensor([[4., 8.],\n",
       "        [5., 3.],\n",
       "        [2., 1.]])"
      ]
     },
     "execution_count": 18,
     "metadata": {},
     "output_type": "execute_result"
    }
   ],
   "source": [
    "points"
   ]
  },
  {
   "cell_type": "code",
   "execution_count": 19,
   "metadata": {},
   "outputs": [
    {
     "data": {
      "text/plain": [
       "torch.Size([1, 3, 2])"
      ]
     },
     "execution_count": 19,
     "metadata": {},
     "output_type": "execute_result"
    }
   ],
   "source": [
    "# 方法一\n",
    "points = points[None]\n",
    "points.shape"
   ]
  },
  {
   "cell_type": "code",
   "execution_count": 20,
   "metadata": {},
   "outputs": [
    {
     "data": {
      "text/plain": [
       "torch.Size([1, 1, 3, 2])"
      ]
     },
     "execution_count": 20,
     "metadata": {},
     "output_type": "execute_result"
    }
   ],
   "source": [
    "# 方法二\n",
    "points = torch.unsqueeze(points, 0)  # 在张量的最前面（索引为 0）添加一个新的批次维度，其中批次大小为1\n",
    "points.shape"
   ]
  },
  {
   "cell_type": "code",
   "execution_count": 21,
   "metadata": {},
   "outputs": [
    {
     "data": {
      "text/plain": [
       "tensor([[[[4., 8.],\n",
       "          [5., 3.],\n",
       "          [2., 1.]]]])"
      ]
     },
     "execution_count": 21,
     "metadata": {},
     "output_type": "execute_result"
    }
   ],
   "source": [
    "points"
   ]
  }
 ],
 "metadata": {
  "kernelspec": {
   "display_name": "Python 3 (ipykernel)",
   "language": "python",
   "name": "python3"
  },
  "language_info": {
   "codemirror_mode": {
    "name": "ipython",
    "version": 3
   },
   "file_extension": ".py",
   "mimetype": "text/x-python",
   "name": "python",
   "nbconvert_exporter": "python",
   "pygments_lexer": "ipython3",
   "version": "3.9.13"
  }
 },
 "nbformat": 4,
 "nbformat_minor": 4
}
