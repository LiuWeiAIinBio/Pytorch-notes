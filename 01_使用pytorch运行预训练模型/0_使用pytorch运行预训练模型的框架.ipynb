{
 "cells": [
  {
   "cell_type": "markdown",
   "id": "51f6711b-17a9-42b2-9f9f-1d3a16f5401f",
   "metadata": {},
   "source": [
    "```\n",
    "import torch\n",
    "\n",
    "1. 定义模型类\n",
    "1.1 自定义模型类\n",
    "1.2 从 torchvision 模块加载模型：from torchvision import models\n",
    "\n",
    "\n",
    "2. 实例化模型类\n",
    "resnet101 = models.resnet101() \n",
    "\n",
    "\n",
    "3. 给实例化的模型类加载预训练好的参数\n",
    "3.1 实例化模型类和加载预训练好的权重同时进行（这种情况可以省略第 2 步）\n",
    "resnet101 = models.resnet101(pretrained=True)  # pretrained=True 指示函数下载 resnet101 在 ImageNet 数据集上训练好的权重\n",
    "\n",
    "3.2 使用模型的 load_state_dict() 方法将预训练权重加载到 resnet101 中\n",
    "model_path = '......'\n",
    "model_data = torch.load(model_path)\n",
    "resnet101.load_state_dict(model_data)\n",
    "\n",
    "3.3 使用 torch.hub 从 github 加载模型（这种情况可以省略第 1、2 步）\n",
    "from torch import hub\n",
    "resnet101 = hub.load('pytorch/vision:main', 'resnet101', pretrained=True)  # 第一项是 GitHub 存储库的名称和分支，第二项是入口点函数的名称\n",
    "# 以上代码将 pytorch/vision 主分支的快照及其权重默认下载到本地的 C:\\Users\\username\\.cache\\torch\\hub 目录下，然后运行 resnet101 入口点函数返回实例化的模型，参数 pretrained=true 会从 ImageNet 获得预训练权重，并加载到 resnet101 中。\n",
    "\n",
    "\n",
    "4. 使用 Python 图像操作模块 Pillow 从本地文件系统加载一幅图像\n",
    "from PIL import Image  # PIL 指的是 pillow\n",
    "img = Image.open(\".../xxx.jpg\")\n",
    "\n",
    "\n",
    "5. 使用 TorchVision 模块提供的 transforms 定义一个对输入图像进行预处理的管道\n",
    "from torchvision import transforms\n",
    "preprocess = transforms.Compose([transforms.Resize(256),  # 将输入图像缩放到 256× 256 个像素\n",
    "                                 transforms.ToTensor(),  # 转换为一个张量\n",
    "                                ])\n",
    "\n",
    "\n",
    "6. 使用预处理管道 preprocess 对图像 img 进行预处理\n",
    "img_t = preprocess(img)\n",
    "\n",
    "\n",
    "7. 给数据添加一个新的维度：批次维度\n",
    "batch_t = torch.unsqueeze(img_t, 0)\n",
    "# torch.unsqueeze(img_t, 0) 的作用是在张量 img_t 的最前面（索引为 0）添加一个新的维度，这通常用于将单个图像张量转换为“批次”张量，其中批次大小为1。例如，如果img_t的形状是[3, 256, 256]（代表一个具有3个颜色通道的256x256像素的图像），使用torch.unsqueeze(img_t, 0)后，batch_t的形状将变为[1, 3, 256, 256]。这个新的维度表示批次大小，即使这里只有一个图像。\n",
    "\n",
    "\n",
    "8. 进行推理时，我们需要将神经网络置于 eval 模式\n",
    "resnet.eval()\n",
    "out = resnet101(batch_t)\n",
    "out\n",
    "# 在深度学习中，在新数据上运行训练过的模型的过程被称为推理（inference），为了进行推理，我们需要将神经网络置于 eval 模式。\n",
    "```"
   ]
  }
 ],
 "metadata": {
  "kernelspec": {
   "display_name": "Python 3 (ipykernel)",
   "language": "python",
   "name": "python3"
  },
  "language_info": {
   "codemirror_mode": {
    "name": "ipython",
    "version": 3
   },
   "file_extension": ".py",
   "mimetype": "text/x-python",
   "name": "python",
   "nbconvert_exporter": "python",
   "pygments_lexer": "ipython3",
   "version": "3.9.13"
  }
 },
 "nbformat": 4,
 "nbformat_minor": 5
}
