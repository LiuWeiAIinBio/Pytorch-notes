{
 "cells": [
  {
   "cell_type": "raw",
   "id": "e392b555-e5a3-4d24-9f2d-6384010ce708",
   "metadata": {},
   "source": [
    "以下内容是《龙良曲 PyTorch 入门到实战》的学习笔记。\n",
    "PyTorch 张量的 API 和 Numpy 数组的 API 有很多相似的地方。"
   ]
  },
  {
   "cell_type": "code",
   "execution_count": 1,
   "id": "2a100ca5-2f17-4946-9d7d-84dad2bfa733",
   "metadata": {},
   "outputs": [],
   "source": [
    "import torch"
   ]
  },
  {
   "cell_type": "markdown",
   "id": "07c9234c-2c5b-41db-bf1d-fb143f307508",
   "metadata": {},
   "source": [
    "# 1. 创建张量 1"
   ]
  },
  {
   "cell_type": "code",
   "execution_count": 2,
   "id": "c7fb0fb0-2ab3-4a66-a805-16559e98d8f9",
   "metadata": {},
   "outputs": [
    {
     "data": {
      "text/plain": [
       "(tensor(2), torch.Size([]), 0)"
      ]
     },
     "execution_count": 2,
     "metadata": {},
     "output_type": "execute_result"
    }
   ],
   "source": [
    "# 创建 0 维张量（标量）\n",
    "a = torch.tensor(2)\n",
    "a, a.shape, a.dim()"
   ]
  },
  {
   "cell_type": "code",
   "execution_count": 3,
   "id": "44c44eea-8441-44de-ad68-b632cdc5891e",
   "metadata": {},
   "outputs": [
    {
     "data": {
      "text/plain": [
       "(tensor([1, 2]), torch.Size([2]), 1)"
      ]
     },
     "execution_count": 3,
     "metadata": {},
     "output_type": "execute_result"
    }
   ],
   "source": [
    "# 创建 1 维张量\n",
    "b = torch.tensor([1, 2])\n",
    "b, b.shape, b.dim()"
   ]
  },
  {
   "cell_type": "raw",
   "id": "109a31d3-89fd-42df-a6c7-1ca7f0f8fafe",
   "metadata": {},
   "source": [
    "torch.Size([2])：[2] 表示张量只有一个维度，且该维度的大小为 2，意味着张量是一个长度为 2 的一维向量。"
   ]
  },
  {
   "cell_type": "code",
   "execution_count": 4,
   "id": "963c5a36-dca8-4261-bcfd-9bf061d7568f",
   "metadata": {},
   "outputs": [
    {
     "data": {
      "text/plain": [
       "(tensor([[0.9194, 0.6271, 0.2808],\n",
       "         [0.7320, 0.6281, 0.4731]]),\n",
       " torch.Size([2, 3]),\n",
       " 2)"
      ]
     },
     "execution_count": 4,
     "metadata": {},
     "output_type": "execute_result"
    }
   ],
   "source": [
    "# 创建 2 维张量\n",
    "c = torch.rand(2, 3)  # torch.rand 是从均匀分布 [0, 1) 中随机采样\n",
    "c, c.shape, c.dim()"
   ]
  },
  {
   "cell_type": "code",
   "execution_count": 5,
   "id": "510ac0a6-cbde-4de0-946a-6a1376245093",
   "metadata": {},
   "outputs": [
    {
     "data": {
      "text/plain": [
       "(tensor([[[0.2893, 0.3904, 0.6273, 0.4768],\n",
       "          [0.5112, 0.7446, 0.3414, 0.9738],\n",
       "          [0.1697, 0.6963, 0.9727, 0.0128]],\n",
       " \n",
       "         [[0.2107, 0.3342, 0.1034, 0.9384],\n",
       "          [0.1644, 0.5735, 0.8205, 0.2774],\n",
       "          [0.6532, 0.4189, 0.7702, 0.5879]]]),\n",
       " torch.Size([2, 3, 4]),\n",
       " 3)"
      ]
     },
     "execution_count": 5,
     "metadata": {},
     "output_type": "execute_result"
    }
   ],
   "source": [
    "# 创建 3 维张量\n",
    "d = torch.rand(2, 3, 4)\n",
    "d, d.shape, d.dim()"
   ]
  },
  {
   "cell_type": "code",
   "execution_count": 6,
   "id": "50851667-428b-40a5-bf39-5d00bd78d7e3",
   "metadata": {},
   "outputs": [
    {
     "data": {
      "text/plain": [
       "(tensor([[[[0.6593, 0.8313, 0.0643, 0.0564, 0.9152],\n",
       "           [0.9571, 0.6830, 0.5699, 0.4414, 0.3250],\n",
       "           [0.9516, 0.1255, 0.5385, 0.5933, 0.1757],\n",
       "           [0.7766, 0.8023, 0.4115, 0.2655, 0.3962]],\n",
       " \n",
       "          [[0.1147, 0.8526, 0.0408, 0.5155, 0.3318],\n",
       "           [0.0611, 0.2794, 0.9503, 0.2847, 0.1292],\n",
       "           [0.6068, 0.5457, 0.2178, 0.1868, 0.5282],\n",
       "           [0.7908, 0.0092, 0.3482, 0.4543, 0.9204]],\n",
       " \n",
       "          [[0.0646, 0.6199, 0.3136, 0.6762, 0.9026],\n",
       "           [0.9862, 0.3748, 0.7697, 0.2156, 0.0947],\n",
       "           [0.8033, 0.0238, 0.3931, 0.0034, 0.2784],\n",
       "           [0.6479, 0.0881, 0.3155, 0.5171, 0.3847]]],\n",
       " \n",
       " \n",
       "         [[[0.8824, 0.5544, 0.2445, 0.5324, 0.0829],\n",
       "           [0.9841, 0.3336, 0.6787, 0.1338, 0.3169],\n",
       "           [0.6381, 0.6531, 0.6902, 0.4889, 0.4793],\n",
       "           [0.9444, 0.7151, 0.8803, 0.3191, 0.9562]],\n",
       " \n",
       "          [[0.3138, 0.5245, 0.3233, 0.2029, 0.8954],\n",
       "           [0.9185, 0.0768, 0.7811, 0.6814, 0.0825],\n",
       "           [0.4816, 0.3676, 0.9202, 0.2949, 0.9146],\n",
       "           [0.3154, 0.1688, 0.0389, 0.8942, 0.7552]],\n",
       " \n",
       "          [[0.9880, 0.5997, 0.5466, 0.7310, 0.7345],\n",
       "           [0.4826, 0.4128, 0.2228, 0.4493, 0.8511],\n",
       "           [0.6346, 0.6801, 0.7759, 0.6266, 0.9946],\n",
       "           [0.7015, 0.8836, 0.0153, 0.6874, 0.7910]]]]),\n",
       " torch.Size([2, 3, 4, 5]),\n",
       " 4)"
      ]
     },
     "execution_count": 6,
     "metadata": {},
     "output_type": "execute_result"
    }
   ],
   "source": [
    "# 创建 4 维张量\n",
    "e = torch.rand(2, 3, 4, 5)\n",
    "e, e.shape, e.dim()"
   ]
  },
  {
   "cell_type": "code",
   "execution_count": 7,
   "id": "ade59525-1a15-46e5-97b7-5ba8578e0204",
   "metadata": {},
   "outputs": [
    {
     "data": {
      "text/plain": [
       "120"
      ]
     },
     "execution_count": 7,
     "metadata": {},
     "output_type": "execute_result"
    }
   ],
   "source": [
    "e.numel()  # number of element, 2*3*4*5=120"
   ]
  },
  {
   "cell_type": "code",
   "execution_count": 8,
   "id": "7a5f598d-a51b-455e-a587-f70ee36b0174",
   "metadata": {},
   "outputs": [],
   "source": [
    "# 设置张量的默认数据类型\n",
    "# torch.set_default_tensor_type(torch.DoubleTensor)"
   ]
  },
  {
   "cell_type": "markdown",
   "id": "fdf1880e-964a-4d75-b745-ae5cae4e2dbb",
   "metadata": {},
   "source": [
    "# 2. 创建张量 2"
   ]
  },
  {
   "cell_type": "markdown",
   "id": "dd11b2a2-f508-4b0c-9f25-35994ef2d6ef",
   "metadata": {},
   "source": [
    "## 2.1 从分布中随机采样"
   ]
  },
  {
   "cell_type": "code",
   "execution_count": 9,
   "id": "5cb7c07d-37c6-4033-b88d-ea22e7ee74a5",
   "metadata": {},
   "outputs": [
    {
     "data": {
      "text/plain": [
       "tensor([[0.4449, 0.8131, 0.9448],\n",
       "        [0.1396, 0.7022, 0.2286]])"
      ]
     },
     "execution_count": 9,
     "metadata": {},
     "output_type": "execute_result"
    }
   ],
   "source": [
    "# 从均匀分布 [0, 1) 中随机采样\n",
    "a = torch.rand(2, 3)  \n",
    "a"
   ]
  },
  {
   "cell_type": "code",
   "execution_count": 10,
   "id": "9125758a-5d6c-428d-a7cb-1fa92ce7226b",
   "metadata": {},
   "outputs": [
    {
     "data": {
      "text/plain": [
       "tensor([[5, 4, 6, 8],\n",
       "        [4, 5, 6, 7],\n",
       "        [1, 1, 2, 8]])"
      ]
     },
     "execution_count": 10,
     "metadata": {},
     "output_type": "execute_result"
    }
   ],
   "source": [
    "# 从 [1, 10) 中随机采样整数\n",
    "torch.randint(1, 10, [3,4])  "
   ]
  },
  {
   "cell_type": "code",
   "execution_count": 11,
   "id": "179f1695-bc09-428a-9936-7dd194cdafbf",
   "metadata": {},
   "outputs": [
    {
     "data": {
      "text/plain": [
       "tensor([[-1.2475, -1.1193, -0.6622, -0.9806],\n",
       "        [-0.8329, -0.5296, -0.3041,  0.9570],\n",
       "        [-0.9947, -0.4797,  0.7994,  1.6489]])"
      ]
     },
     "execution_count": 11,
     "metadata": {},
     "output_type": "execute_result"
    }
   ],
   "source": [
    "# 从标准正态分布 N(0, 1) 中随机采样\n",
    "torch.randn(3, 4)  # 3 行 4 列"
   ]
  },
  {
   "cell_type": "code",
   "execution_count": 12,
   "id": "fe339b63-b896-42ff-9b45-34df1c319118",
   "metadata": {},
   "outputs": [
    {
     "data": {
      "text/plain": [
       "tensor([[-2.1019, -0.3330, -0.2466],\n",
       "        [-2.7793,  2.4186, -9.1473]])"
      ]
     },
     "execution_count": 12,
     "metadata": {},
     "output_type": "execute_result"
    }
   ],
   "source": [
    "# 从正态分布中随机采样\n",
    "torch.normal(mean=0, std=4, size=(2, 3))"
   ]
  },
  {
   "cell_type": "markdown",
   "id": "495bed8d-e7b5-430c-b5bc-a7748bb262bc",
   "metadata": {},
   "source": [
    "## 2.2 使用特定值填充张量"
   ]
  },
  {
   "cell_type": "code",
   "execution_count": 13,
   "id": "df4cb1c8-4540-4bb8-89f6-2b034dcfb4e7",
   "metadata": {},
   "outputs": [
    {
     "data": {
      "text/plain": [
       "tensor([[6, 6, 6],\n",
       "        [6, 6, 6]])"
      ]
     },
     "execution_count": 13,
     "metadata": {},
     "output_type": "execute_result"
    }
   ],
   "source": [
    "# 使用任意值填充张量\n",
    "torch.full([2,3], 6)  # 2 行 3 列，填充值为 6"
   ]
  },
  {
   "cell_type": "code",
   "execution_count": 14,
   "id": "4314a778-021a-4b3a-88bf-2cbcd4ff190e",
   "metadata": {},
   "outputs": [
    {
     "data": {
      "text/plain": [
       "tensor([[1., 1., 1.],\n",
       "        [1., 1., 1.]])"
      ]
     },
     "execution_count": 14,
     "metadata": {},
     "output_type": "execute_result"
    }
   ],
   "source": [
    "# 使用 1 填充张量\n",
    "torch.ones(2, 3)"
   ]
  },
  {
   "cell_type": "code",
   "execution_count": 15,
   "id": "86a7974b-cc10-4bde-ab27-b56c15d72714",
   "metadata": {},
   "outputs": [
    {
     "data": {
      "text/plain": [
       "tensor([[0., 0., 0.],\n",
       "        [0., 0., 0.]])"
      ]
     },
     "execution_count": 15,
     "metadata": {},
     "output_type": "execute_result"
    }
   ],
   "source": [
    "# 使用 0 填充张量\n",
    "torch.zeros(2, 3)"
   ]
  },
  {
   "cell_type": "code",
   "execution_count": 16,
   "id": "aa31114b-cf3c-43d2-adbf-131fcbb8330c",
   "metadata": {},
   "outputs": [
    {
     "data": {
      "text/plain": [
       "tensor([[1., 0., 0., 0.],\n",
       "        [0., 1., 0., 0.],\n",
       "        [0., 0., 1., 0.]])"
      ]
     },
     "execution_count": 16,
     "metadata": {},
     "output_type": "execute_result"
    }
   ],
   "source": [
    "# 使用 1 填充张量对角线\n",
    "torch.eye(3, 4)  # 使用 1 填充 3 行 4 列张量对角线"
   ]
  },
  {
   "cell_type": "markdown",
   "id": "f02c2be8-0ea8-436b-bbe9-b9d350212bba",
   "metadata": {},
   "source": [
    "## 2.3 生成序列张量"
   ]
  },
  {
   "cell_type": "code",
   "execution_count": 17,
   "id": "a09d9788-0426-4fed-bf13-a87d3da449ca",
   "metadata": {},
   "outputs": [
    {
     "data": {
      "text/plain": [
       "tensor([0, 2, 4, 6, 8])"
      ]
     },
     "execution_count": 17,
     "metadata": {},
     "output_type": "execute_result"
    }
   ],
   "source": [
    "# 生成整数序列张量\n",
    "torch.arange(0, 10, 2)  # 采样 [0,10) 之间的整数，步长为 2，默认为 1"
   ]
  },
  {
   "cell_type": "code",
   "execution_count": 18,
   "id": "e72312b1-225b-4f23-a21e-40e65bb5a739",
   "metadata": {},
   "outputs": [
    {
     "data": {
      "text/plain": [
       "tensor([ 0.0000,  3.3333,  6.6667, 10.0000])"
      ]
     },
     "execution_count": 18,
     "metadata": {},
     "output_type": "execute_result"
    }
   ],
   "source": [
    "# 生成等间隔序列张量\n",
    "torch.linspace(0, 10, steps=4)  # 起始值为 0, 结束值为 10, steps 指定生成的样本数量为 4"
   ]
  },
  {
   "cell_type": "code",
   "execution_count": 19,
   "id": "ab10e444-7f6d-46ca-9b74-658ed59f5cdc",
   "metadata": {},
   "outputs": [
    {
     "data": {
      "text/plain": [
       "tensor([1.0000e+00, 2.0000e+00, 4.0000e+00, 8.0000e+00, 1.6000e+01, 3.2000e+01,\n",
       "        6.4000e+01, 1.2800e+02, 2.5600e+02, 5.1200e+02, 1.0240e+03])"
      ]
     },
     "execution_count": 19,
     "metadata": {},
     "output_type": "execute_result"
    }
   ],
   "source": [
    "# 生成等间隔序列张量，并使用指定底数做指数运算\n",
    "torch.logspace(0, 10, steps=11, base=2)  # 起始值为 0, 结束值为 10, base 指定底数为 2，默认为 10"
   ]
  },
  {
   "cell_type": "markdown",
   "id": "bc70bab5-af54-4322-ad11-78b70eadb7d3",
   "metadata": {},
   "source": [
    "## 2.4 生成随机索引种子张量"
   ]
  },
  {
   "cell_type": "code",
   "execution_count": 20,
   "id": "6cf110af-6e1e-41a9-82b7-b0ffb746816b",
   "metadata": {},
   "outputs": [
    {
     "data": {
      "text/plain": [
       "tensor([9, 7, 8, 0, 5, 6, 4, 3, 2, 1])"
      ]
     },
     "execution_count": 20,
     "metadata": {},
     "output_type": "execute_result"
    }
   ],
   "source": [
    "idx = torch.randperm(10)  # 范围为 [0, 10)\n",
    "idx"
   ]
  },
  {
   "cell_type": "markdown",
   "id": "b08dbf85-bb60-432f-8ff9-3a1199eeff19",
   "metadata": {},
   "source": [
    "# 3. 索引与切片"
   ]
  },
  {
   "cell_type": "code",
   "execution_count": 21,
   "id": "85bc7c05-4c3a-47da-9010-d9b711c61ac8",
   "metadata": {},
   "outputs": [],
   "source": [
    "a = torch.rand(3, 4, 18, 5)\n",
    "b = torch.randn(3, 4)"
   ]
  },
  {
   "cell_type": "markdown",
   "id": "d5ea452c-aa3e-4c15-8e0c-32d433cfbe5b",
   "metadata": {},
   "source": [
    "## 3.1 直接索引"
   ]
  },
  {
   "cell_type": "code",
   "execution_count": 22,
   "id": "9b820de9-81a4-44ae-a20d-7b1c3916bfd1",
   "metadata": {},
   "outputs": [
    {
     "data": {
      "text/plain": [
       "torch.Size([4, 18, 5])"
      ]
     },
     "execution_count": 22,
     "metadata": {},
     "output_type": "execute_result"
    }
   ],
   "source": [
    "a[0].shape"
   ]
  },
  {
   "cell_type": "code",
   "execution_count": 23,
   "id": "18e17417-deca-4f47-8b03-24ca656a0ae6",
   "metadata": {},
   "outputs": [
    {
     "data": {
      "text/plain": [
       "torch.Size([18, 5])"
      ]
     },
     "execution_count": 23,
     "metadata": {},
     "output_type": "execute_result"
    }
   ],
   "source": [
    "a[0, 0].shape"
   ]
  },
  {
   "cell_type": "code",
   "execution_count": 24,
   "id": "ccbe9a29-9614-422f-829c-510af4b88b8e",
   "metadata": {},
   "outputs": [
    {
     "data": {
      "text/plain": [
       "torch.Size([])"
      ]
     },
     "execution_count": 24,
     "metadata": {},
     "output_type": "execute_result"
    }
   ],
   "source": [
    "a[0, 0, 2, 4].shape"
   ]
  },
  {
   "cell_type": "markdown",
   "id": "733bcf54-06b6-4945-a0a5-66ce79639f7c",
   "metadata": {},
   "source": [
    "## 3.2 切片"
   ]
  },
  {
   "cell_type": "code",
   "execution_count": 25,
   "id": "f6aa9580-b5dd-4f88-94a4-395c1bd3a454",
   "metadata": {},
   "outputs": [
    {
     "data": {
      "text/plain": [
       "torch.Size([3, 4, 18, 5])"
      ]
     },
     "execution_count": 25,
     "metadata": {},
     "output_type": "execute_result"
    }
   ],
   "source": [
    "a.shape"
   ]
  },
  {
   "cell_type": "code",
   "execution_count": 26,
   "id": "bd2a2a29-a2bf-4ce5-8043-f1472555c019",
   "metadata": {},
   "outputs": [
    {
     "data": {
      "text/plain": [
       "torch.Size([2, 4, 18, 5])"
      ]
     },
     "execution_count": 26,
     "metadata": {},
     "output_type": "execute_result"
    }
   ],
   "source": [
    "a[:2].shape"
   ]
  },
  {
   "cell_type": "code",
   "execution_count": 27,
   "id": "194b7d0f-c441-4b2c-93c1-22083cd3e315",
   "metadata": {},
   "outputs": [
    {
     "data": {
      "text/plain": [
       "torch.Size([2, 1, 18, 5])"
      ]
     },
     "execution_count": 27,
     "metadata": {},
     "output_type": "execute_result"
    }
   ],
   "source": [
    "a[:2, :1, :, :].shape"
   ]
  },
  {
   "cell_type": "code",
   "execution_count": 28,
   "id": "2eb844b5-45d5-41fc-92b8-740fc17785c9",
   "metadata": {},
   "outputs": [
    {
     "data": {
      "text/plain": [
       "torch.Size([2, 3, 18, 5])"
      ]
     },
     "execution_count": 28,
     "metadata": {},
     "output_type": "execute_result"
    }
   ],
   "source": [
    "a[:2, 1:, :, :].shape"
   ]
  },
  {
   "cell_type": "code",
   "execution_count": 29,
   "id": "5628a22b-56ce-4121-85c1-f04ec8bfd531",
   "metadata": {},
   "outputs": [
    {
     "data": {
      "text/plain": [
       "torch.Size([2, 1, 18, 5])"
      ]
     },
     "execution_count": 29,
     "metadata": {},
     "output_type": "execute_result"
    }
   ],
   "source": [
    "a[:2, -1:, :, :].shape"
   ]
  },
  {
   "cell_type": "code",
   "execution_count": 30,
   "id": "a328d801-237e-4b44-94a0-bf35c380f405",
   "metadata": {},
   "outputs": [
    {
     "data": {
      "text/plain": [
       "torch.Size([3, 3, 18, 5])"
      ]
     },
     "execution_count": 30,
     "metadata": {},
     "output_type": "execute_result"
    }
   ],
   "source": [
    "a[:, :-1, :, :].shape"
   ]
  },
  {
   "cell_type": "markdown",
   "id": "9cedac47-1379-4ff7-b43c-fa45506deb88",
   "metadata": {},
   "source": [
    "## 3.3 间隔采样"
   ]
  },
  {
   "cell_type": "code",
   "execution_count": 31,
   "id": "f8946b02-6ef9-405d-bdfd-936a21d36356",
   "metadata": {},
   "outputs": [
    {
     "data": {
      "text/plain": [
       "torch.Size([3, 4, 18, 5])"
      ]
     },
     "execution_count": 31,
     "metadata": {},
     "output_type": "execute_result"
    }
   ],
   "source": [
    "a.shape"
   ]
  },
  {
   "cell_type": "raw",
   "id": "baeaf0ad-b05e-4689-b508-05d4a4d38ed1",
   "metadata": {},
   "source": [
    "[n : m : k]代表的是在 [n: m) 这一段采样，每 k 个采样一次。\n",
    "k 代表的是间隔，间隔可正可负，正值代表正向挑取，负值代表反向挑取。\n",
    "当k为正的时候起始索引应该小于结束索引；当k为负的时候起始索引应该大于结束索引，因为在倒序来看，首先是索引值大的被取到，然后才是索引值小的。"
   ]
  },
  {
   "cell_type": "code",
   "execution_count": 32,
   "id": "08a44c9c-e3df-4d29-a5cb-220ca88f2241",
   "metadata": {},
   "outputs": [
    {
     "data": {
      "text/plain": [
       "torch.Size([3, 4, 9, 5])"
      ]
     },
     "execution_count": 32,
     "metadata": {},
     "output_type": "execute_result"
    }
   ],
   "source": [
    "a[:, :, 0:18:2, :].shape"
   ]
  },
  {
   "cell_type": "code",
   "execution_count": 33,
   "id": "05cc15a6-25c0-48e0-a47a-9f0f4493085e",
   "metadata": {},
   "outputs": [
    {
     "data": {
      "text/plain": [
       "torch.Size([3, 4, 9, 5])"
      ]
     },
     "execution_count": 33,
     "metadata": {},
     "output_type": "execute_result"
    }
   ],
   "source": [
    "a[:, :, ::2, :].shape  # ::2 表示从全序列采样，每 2 个采样一次"
   ]
  },
  {
   "cell_type": "markdown",
   "id": "9e826567-743b-4623-9051-6cd69d456000",
   "metadata": {},
   "source": [
    "## 3.4 根据特定索引采样"
   ]
  },
  {
   "cell_type": "code",
   "execution_count": 34,
   "id": "9ac3dda8-05ed-4a8a-beb8-25dfa9871089",
   "metadata": {},
   "outputs": [
    {
     "data": {
      "text/plain": [
       "torch.Size([3, 4, 18, 5])"
      ]
     },
     "execution_count": 34,
     "metadata": {},
     "output_type": "execute_result"
    }
   ],
   "source": [
    "a.shape"
   ]
  },
  {
   "cell_type": "raw",
   "id": "523feb0a-9df2-4ea3-9d9e-5bda8a284e3f",
   "metadata": {},
   "source": [
    "a.index_select(2, torch.tensor([2,5,7,15])).shape\n",
    "对第 3 维的 [2,5,7,15] 进行采样，[2,5,7,15] 必须是一维 tensor，列表形式会报错。"
   ]
  },
  {
   "cell_type": "code",
   "execution_count": 35,
   "id": "b5c62511-1b08-465f-a91b-2c3c28c52ddd",
   "metadata": {},
   "outputs": [
    {
     "data": {
      "text/plain": [
       "torch.Size([3, 4, 4, 5])"
      ]
     },
     "execution_count": 35,
     "metadata": {},
     "output_type": "execute_result"
    }
   ],
   "source": [
    "a.index_select(2, torch.tensor([2,5,7,15])).shape"
   ]
  },
  {
   "cell_type": "markdown",
   "id": "9cf31a27-7854-4786-b33c-da10143b8e86",
   "metadata": {},
   "source": [
    "## 3.5 根据掩码采样"
   ]
  },
  {
   "cell_type": "code",
   "execution_count": 36,
   "id": "1007001f-fff1-4677-8139-30d8e0e0b59b",
   "metadata": {},
   "outputs": [
    {
     "data": {
      "text/plain": [
       "tensor([[ 1.5628,  0.8783, -1.3608, -0.3513],\n",
       "        [ 0.6636, -0.3566, -1.3542, -0.4308],\n",
       "        [ 1.0327,  0.4493, -0.8951, -1.7003]])"
      ]
     },
     "execution_count": 36,
     "metadata": {},
     "output_type": "execute_result"
    }
   ],
   "source": [
    "b"
   ]
  },
  {
   "cell_type": "code",
   "execution_count": 37,
   "id": "8ad0275f-5f99-4fca-a64d-5850299e666e",
   "metadata": {},
   "outputs": [
    {
     "data": {
      "text/plain": [
       "tensor([[ True,  True, False, False],\n",
       "        [ True, False, False, False],\n",
       "        [ True, False, False, False]])"
      ]
     },
     "execution_count": 37,
     "metadata": {},
     "output_type": "execute_result"
    }
   ],
   "source": [
    "mask = b.ge(0.5)  # great equal 为大于等于，取 b 中大于等于 0.5 的元素\n",
    "mask"
   ]
  },
  {
   "cell_type": "code",
   "execution_count": 38,
   "id": "6c0f573c-b6d3-4ee4-9b5d-13fe6a8d4694",
   "metadata": {},
   "outputs": [
    {
     "data": {
      "text/plain": [
       "tensor([1.5628, 0.8783, 0.6636, 1.0327])"
      ]
     },
     "execution_count": 38,
     "metadata": {},
     "output_type": "execute_result"
    }
   ],
   "source": [
    "torch.masked_select(b, mask)"
   ]
  },
  {
   "cell_type": "markdown",
   "id": "dbd4a28a-3f1d-4692-aef9-918f9d833ab3",
   "metadata": {},
   "source": [
    "## 3.6 打平之后采样"
   ]
  },
  {
   "cell_type": "code",
   "execution_count": 39,
   "id": "722e5e71-e862-4224-94fd-342c9d032eb7",
   "metadata": {},
   "outputs": [
    {
     "data": {
      "text/plain": [
       "tensor([[ 1.5628,  0.8783, -1.3608, -0.3513],\n",
       "        [ 0.6636, -0.3566, -1.3542, -0.4308],\n",
       "        [ 1.0327,  0.4493, -0.8951, -1.7003]])"
      ]
     },
     "execution_count": 39,
     "metadata": {},
     "output_type": "execute_result"
    }
   ],
   "source": [
    "b"
   ]
  },
  {
   "cell_type": "code",
   "execution_count": 40,
   "id": "fcf374d0-3e69-48d8-a949-5f4a29d0ed07",
   "metadata": {},
   "outputs": [
    {
     "data": {
      "text/plain": [
       "tensor([ 1.5628, -0.3513, -0.8951, -1.7003])"
      ]
     },
     "execution_count": 40,
     "metadata": {},
     "output_type": "execute_result"
    }
   ],
   "source": [
    "torch.take(b, torch.tensor([0, 3, 10, 11]))"
   ]
  },
  {
   "cell_type": "markdown",
   "id": "f14129ed-588b-4f9e-b698-cbf9918e8573",
   "metadata": {},
   "source": [
    "## 3.7 ... 全取"
   ]
  },
  {
   "cell_type": "code",
   "execution_count": 41,
   "id": "5f98c2b5-9f00-49e1-9597-567e71dededd",
   "metadata": {},
   "outputs": [
    {
     "data": {
      "text/plain": [
       "torch.Size([3, 4, 18, 5])"
      ]
     },
     "execution_count": 41,
     "metadata": {},
     "output_type": "execute_result"
    }
   ],
   "source": [
    "a.shape"
   ]
  },
  {
   "cell_type": "raw",
   "id": "dc5ddd70-798e-480c-97a8-b04e7d5e47b6",
   "metadata": {},
   "source": [
    "... 取连续区间内的所有维度的所有内容"
   ]
  },
  {
   "cell_type": "code",
   "execution_count": 42,
   "id": "0dcb336a-eb46-4a46-9fb7-734444287339",
   "metadata": {},
   "outputs": [
    {
     "data": {
      "text/plain": [
       "torch.Size([4, 18, 5])"
      ]
     },
     "execution_count": 42,
     "metadata": {},
     "output_type": "execute_result"
    }
   ],
   "source": [
    "a[2, ...].shape  # 第 1 维取的是索引为 2 的内容，其余维度的内容全取"
   ]
  },
  {
   "cell_type": "code",
   "execution_count": 43,
   "id": "ec042ab6-9739-4b1c-8781-b83974e6fbff",
   "metadata": {},
   "outputs": [
    {
     "data": {
      "text/plain": [
       "torch.Size([3, 18, 5])"
      ]
     },
     "execution_count": 43,
     "metadata": {},
     "output_type": "execute_result"
    }
   ],
   "source": [
    "a[:, 3, ...].shape"
   ]
  },
  {
   "cell_type": "code",
   "execution_count": 44,
   "id": "c4fcb0ef-c483-42ef-8bb1-6d6b8f18b062",
   "metadata": {},
   "outputs": [
    {
     "data": {
      "text/plain": [
       "torch.Size([3, 4, 18, 3])"
      ]
     },
     "execution_count": 44,
     "metadata": {},
     "output_type": "execute_result"
    }
   ],
   "source": [
    "a[..., :3].shape"
   ]
  },
  {
   "cell_type": "code",
   "execution_count": 45,
   "id": "544e6ab2-0891-4b8c-b002-28c67c0e64c7",
   "metadata": {},
   "outputs": [
    {
     "data": {
      "text/plain": [
       "torch.Size([1, 4, 18, 3])"
      ]
     },
     "execution_count": 45,
     "metadata": {},
     "output_type": "execute_result"
    }
   ],
   "source": [
    "a[2:, ..., :3].shape"
   ]
  },
  {
   "cell_type": "markdown",
   "id": "7e7631ee-fede-4931-9333-1418dcba8972",
   "metadata": {},
   "source": [
    "# 4. 维度变换 "
   ]
  },
  {
   "cell_type": "code",
   "execution_count": 46,
   "id": "3a6d6fc2-d936-4909-98c2-f3541197c08f",
   "metadata": {},
   "outputs": [],
   "source": [
    "a = torch.rand(4, 1, 28, 28)"
   ]
  },
  {
   "cell_type": "markdown",
   "id": "6ab87e1e-2592-4a77-9466-636a506caccd",
   "metadata": {},
   "source": [
    "## 4.1 view() 和 reshape()：重塑数据 shape，两者完全等同"
   ]
  },
  {
   "cell_type": "code",
   "execution_count": 47,
   "id": "deabf525-ff13-430c-a57c-20316e44230b",
   "metadata": {},
   "outputs": [
    {
     "data": {
      "text/plain": [
       "tensor([[0.8549, 0.8533, 0.4370,  ..., 0.8708, 0.7496, 0.4803],\n",
       "        [0.0984, 0.1370, 0.7975,  ..., 0.8660, 0.7602, 0.1966],\n",
       "        [0.7330, 0.7013, 0.9272,  ..., 0.8054, 0.4587, 0.5118],\n",
       "        [0.9870, 0.5060, 0.4710,  ..., 0.3338, 0.4595, 0.8361]])"
      ]
     },
     "execution_count": 47,
     "metadata": {},
     "output_type": "execute_result"
    }
   ],
   "source": [
    "a.view(4, 1*28*28)  # 变换成 2 维"
   ]
  },
  {
   "cell_type": "code",
   "execution_count": 48,
   "id": "9bebe3b6-0667-40a5-b41c-07ff66e6ef33",
   "metadata": {},
   "outputs": [
    {
     "data": {
      "text/plain": [
       "tensor([[0.8549, 0.8533, 0.4370,  ..., 0.8708, 0.7496, 0.4803],\n",
       "        [0.0984, 0.1370, 0.7975,  ..., 0.8660, 0.7602, 0.1966],\n",
       "        [0.7330, 0.7013, 0.9272,  ..., 0.8054, 0.4587, 0.5118],\n",
       "        [0.9870, 0.5060, 0.4710,  ..., 0.3338, 0.4595, 0.8361]])"
      ]
     },
     "execution_count": 48,
     "metadata": {},
     "output_type": "execute_result"
    }
   ],
   "source": [
    "a.reshape(4, 1*28*28)"
   ]
  },
  {
   "cell_type": "markdown",
   "id": "2e3d0617-661e-4818-9323-19e4ac330294",
   "metadata": {},
   "source": [
    "## 4.2 unsqueeze(): 增加维度"
   ]
  },
  {
   "cell_type": "raw",
   "id": "a1293c6e-5db9-43af-a4fe-176367687fb9",
   "metadata": {},
   "source": [
    "unsqueeze() 增加维度不会改变数据，只是增加一个维度，这个维度的具体含义由自己定义。"
   ]
  },
  {
   "cell_type": "code",
   "execution_count": 49,
   "id": "78684228-e92f-4536-96f4-bb4a70c29ad3",
   "metadata": {},
   "outputs": [
    {
     "data": {
      "text/plain": [
       "torch.Size([4, 1, 28, 28])"
      ]
     },
     "execution_count": 49,
     "metadata": {},
     "output_type": "execute_result"
    }
   ],
   "source": [
    "a.shape"
   ]
  },
  {
   "cell_type": "code",
   "execution_count": 50,
   "id": "8f98b4c3-6058-4bff-884b-6f6f9586b9f5",
   "metadata": {},
   "outputs": [
    {
     "data": {
      "text/plain": [
       "torch.Size([1, 4, 1, 28, 28])"
      ]
     },
     "execution_count": 50,
     "metadata": {},
     "output_type": "execute_result"
    }
   ],
   "source": [
    "a.unsqueeze(0).shape  # 在第一维之前增加一个维度"
   ]
  },
  {
   "cell_type": "code",
   "execution_count": 51,
   "id": "793f2361-7c5b-4517-a00e-d583b1ca0bdb",
   "metadata": {},
   "outputs": [
    {
     "data": {
      "text/plain": [
       "torch.Size([4, 1, 28, 28, 1])"
      ]
     },
     "execution_count": 51,
     "metadata": {},
     "output_type": "execute_result"
    }
   ],
   "source": [
    "a.unsqueeze(-1).shape  # 在最后一维之后增加一个维度"
   ]
  },
  {
   "cell_type": "code",
   "execution_count": 52,
   "id": "8e620463-9fbd-4b96-b800-efd060bb3494",
   "metadata": {},
   "outputs": [
    {
     "data": {
      "text/plain": [
       "torch.Size([1, 4, 1, 28, 28])"
      ]
     },
     "execution_count": 52,
     "metadata": {},
     "output_type": "execute_result"
    }
   ],
   "source": [
    "a.unsqueeze(-5).shape"
   ]
  },
  {
   "cell_type": "code",
   "execution_count": 53,
   "id": "ad535b21-943d-47ed-8a8e-32d58d985877",
   "metadata": {},
   "outputs": [
    {
     "data": {
      "text/plain": [
       "torch.Size([4, 1, 28, 28, 1])"
      ]
     },
     "execution_count": 53,
     "metadata": {},
     "output_type": "execute_result"
    }
   ],
   "source": [
    "a.unsqueeze(4).shape"
   ]
  },
  {
   "cell_type": "markdown",
   "id": "6f3c6a33-6502-4f93-b46d-4e641f072674",
   "metadata": {},
   "source": [
    "## 4.3 squeeze(): 减少维度"
   ]
  },
  {
   "cell_type": "raw",
   "id": "d0d534ea-aaa8-41c7-bb68-f1e19f832c41",
   "metadata": {},
   "source": [
    "只能去掉 size 为 1 的维度，对 size 不为 1 的维度执行此操作，原数据保持不变。\n",
    "() 内无参数时，去掉所有 size 为 1 的维度。"
   ]
  },
  {
   "cell_type": "code",
   "execution_count": 54,
   "id": "5c00c064-0e89-4de3-adc8-40c204c6eff9",
   "metadata": {},
   "outputs": [
    {
     "data": {
      "text/plain": [
       "torch.Size([4, 1, 28, 28])"
      ]
     },
     "execution_count": 54,
     "metadata": {},
     "output_type": "execute_result"
    }
   ],
   "source": [
    "a.shape"
   ]
  },
  {
   "cell_type": "code",
   "execution_count": 55,
   "id": "8a5466c6-63fc-425c-9af3-37be550678fa",
   "metadata": {},
   "outputs": [
    {
     "data": {
      "text/plain": [
       "torch.Size([4, 28, 28])"
      ]
     },
     "execution_count": 55,
     "metadata": {},
     "output_type": "execute_result"
    }
   ],
   "source": [
    "a.squeeze().shape"
   ]
  },
  {
   "cell_type": "code",
   "execution_count": 56,
   "id": "38ced3ed-8843-46ff-9ac9-73eb6fc825e9",
   "metadata": {},
   "outputs": [
    {
     "data": {
      "text/plain": [
       "torch.Size([4, 28, 28])"
      ]
     },
     "execution_count": 56,
     "metadata": {},
     "output_type": "execute_result"
    }
   ],
   "source": [
    "a.squeeze(1).shape  "
   ]
  },
  {
   "cell_type": "code",
   "execution_count": 57,
   "id": "f37ba117-2ea3-4b38-9a99-a03b8eca6524",
   "metadata": {},
   "outputs": [
    {
     "data": {
      "text/plain": [
       "torch.Size([4, 1, 28, 28])"
      ]
     },
     "execution_count": 57,
     "metadata": {},
     "output_type": "execute_result"
    }
   ],
   "source": [
    "a.squeeze(0).shape  "
   ]
  },
  {
   "cell_type": "code",
   "execution_count": 58,
   "id": "e78e76f3-8231-47e7-ae33-d6c40ac4047e",
   "metadata": {},
   "outputs": [
    {
     "data": {
      "text/plain": [
       "torch.Size([4, 28, 28])"
      ]
     },
     "execution_count": 58,
     "metadata": {},
     "output_type": "execute_result"
    }
   ],
   "source": [
    "a.squeeze(-3).shape  "
   ]
  },
  {
   "cell_type": "markdown",
   "id": "963c2fd9-f877-4810-a3fc-7703cd018575",
   "metadata": {},
   "source": [
    "## 4.4 expand(): 增加某一维度的 size"
   ]
  },
  {
   "cell_type": "raw",
   "id": "dbbeb8a7-bc9e-49c4-a635-c76a8dfd31b4",
   "metadata": {},
   "source": [
    "只能增加 size 为 1 的维度的 size，增加 size 不为 1 的维度的 size 会报错。\n",
    "注意：增加某一维度的 size 是对既有数据的复制！\n",
    "-1 表示此维度的 size 保持不变。"
   ]
  },
  {
   "cell_type": "code",
   "execution_count": 59,
   "id": "5840d055-8ca0-4aa1-bb25-b12e6b8d9994",
   "metadata": {},
   "outputs": [
    {
     "data": {
      "text/plain": [
       "(torch.Size([4, 1, 28, 28]), 3136)"
      ]
     },
     "execution_count": 59,
     "metadata": {},
     "output_type": "execute_result"
    }
   ],
   "source": [
    "a.shape, a.numel()"
   ]
  },
  {
   "cell_type": "code",
   "execution_count": 60,
   "id": "b0b3161c-f22e-4155-a437-61cfb705156c",
   "metadata": {},
   "outputs": [
    {
     "data": {
      "text/plain": [
       "(torch.Size([4, 2, 28, 28]), 6272)"
      ]
     },
     "execution_count": 60,
     "metadata": {},
     "output_type": "execute_result"
    }
   ],
   "source": [
    "a.expand(4, 2, 28, 28).shape, a.expand(4, 2, 28, 28).numel()"
   ]
  },
  {
   "cell_type": "code",
   "execution_count": 61,
   "id": "087e068a-6ea2-436f-bd90-281e6171fa6d",
   "metadata": {},
   "outputs": [
    {
     "data": {
      "text/plain": [
       "torch.Size([4, 2, 28, 28])"
      ]
     },
     "execution_count": 61,
     "metadata": {},
     "output_type": "execute_result"
    }
   ],
   "source": [
    "a.expand(-1, 2, -1, -1).shape"
   ]
  },
  {
   "cell_type": "markdown",
   "id": "7bb54add-32e5-4fdc-8cce-53dc38e5b211",
   "metadata": {},
   "source": [
    "## 4.5 使用示例：不同维度数据相加"
   ]
  },
  {
   "cell_type": "code",
   "execution_count": 62,
   "id": "1646f3c9-6184-4898-bd4e-927818e5ccef",
   "metadata": {},
   "outputs": [
    {
     "data": {
      "text/plain": [
       "torch.Size([4, 32, 15, 15])"
      ]
     },
     "execution_count": 62,
     "metadata": {},
     "output_type": "execute_result"
    }
   ],
   "source": [
    "# 创建一个包含 32 个数据的一维张量\n",
    "b = torch.rand(32)\n",
    "\n",
    "# 创建一个四维张量，其中第二维的 size 为 32\n",
    "c = torch.rand(4, 32, 15, 15)\n",
    "\n",
    "# 使用 unsqueeze() 增加 b 的维度\n",
    "b = b.unsqueeze(0).unsqueeze(2).unsqueeze(3)\n",
    "\n",
    "# 使用 expand() 增加 b 的维度的 size\n",
    "b = b.expand(4, 32, 15, 15)\n",
    "\n",
    "# 将 b 和 c 相加\n",
    "(b + c).shape"
   ]
  },
  {
   "cell_type": "markdown",
   "id": "f24883cf-675b-4faa-a48c-db0a182eb8bd",
   "metadata": {},
   "source": [
    "## 4.6 t(): 交换维度"
   ]
  },
  {
   "cell_type": "raw",
   "id": "10607dc7-2b8f-49ac-9a58-bed3c09303c5",
   "metadata": {},
   "source": [
    ".t() 只能用于二维张量交换维度，不能用于其他高维张量，返回输入张量的转置版本。"
   ]
  },
  {
   "cell_type": "code",
   "execution_count": 63,
   "id": "87ac0980-ec78-40f7-9ed6-882369bf08ea",
   "metadata": {},
   "outputs": [],
   "source": [
    "d = torch.rand(3, 4)"
   ]
  },
  {
   "cell_type": "code",
   "execution_count": 64,
   "id": "ecb5eaa8-51da-463b-9f81-fe5323b6d721",
   "metadata": {},
   "outputs": [
    {
     "data": {
      "text/plain": [
       "torch.Size([4, 3])"
      ]
     },
     "execution_count": 64,
     "metadata": {},
     "output_type": "execute_result"
    }
   ],
   "source": [
    "d.t().shape"
   ]
  },
  {
   "cell_type": "markdown",
   "id": "2062f910-2813-46c5-af57-1286f9eba9bb",
   "metadata": {},
   "source": [
    "## 4.7 transpose(): 交换维度"
   ]
  },
  {
   "cell_type": "raw",
   "id": "5955944c-6928-41a3-af2d-a1b32b606af4",
   "metadata": {},
   "source": [
    "transpose() 可以用于二维/多维张量的交换维度，返回输入张量的转置版本，但是只能实现两个维度的交换。"
   ]
  },
  {
   "cell_type": "code",
   "execution_count": 65,
   "id": "e1972da9-24c1-43a0-b9f5-fa1f9cfaaed2",
   "metadata": {},
   "outputs": [
    {
     "data": {
      "text/plain": [
       "torch.Size([4, 1, 28, 28])"
      ]
     },
     "execution_count": 65,
     "metadata": {},
     "output_type": "execute_result"
    }
   ],
   "source": [
    "a.shape"
   ]
  },
  {
   "cell_type": "code",
   "execution_count": 66,
   "id": "3599d67f-a365-403d-ae69-721f9a5a6ea5",
   "metadata": {},
   "outputs": [
    {
     "data": {
      "text/plain": [
       "torch.Size([4, 28, 28, 1])"
      ]
     },
     "execution_count": 66,
     "metadata": {},
     "output_type": "execute_result"
    }
   ],
   "source": [
    "# 交换第 2 和第 4 维度\n",
    "a.transpose(1, 3).shape"
   ]
  },
  {
   "cell_type": "raw",
   "id": "72a5f52a-bcb3-4c7e-a480-bc8bcb70f04f",
   "metadata": {},
   "source": [
    "注意：transpose() 对张量进行了转置，数据的顺序发生了变化，所以当我们使用 view() 先压缩 shape 再恢复 shape 时，在恢复步骤中，必须先恢复为压缩之前的 shape，若恢复为其他 shape，会造成数据污染。这一点，我们要格外注意！！！"
   ]
  },
  {
   "cell_type": "code",
   "execution_count": 67,
   "id": "2b045cc8-7a16-49df-b4a8-1f041deaa266",
   "metadata": {},
   "outputs": [],
   "source": [
    "# 交换维度 size 之后，再使用 view() reshape，直接 reshape 为 a 的形状（错误的方法）\n",
    "a1 = a.transpose(1, 3).contiguous().view(4, 1*28*28).view(4, 1, 28, 28)  # 在张量处于转置状态，数据的顺序发生了变化的情况下，直接 reshape 为 a 的形状是错误的，得到的结果不同于 a\n",
    "\n",
    "# 交换维度 size 之后，再使用 view() reshape，先 reshape 恢复，再使用 transpose() 恢复为 a 的形状（正确的方法）\n",
    "a2 = a.transpose(1, 3).contiguous().view(4, 1*28*28).view(4, 28, 28, 1).transpose(1, 3)"
   ]
  },
  {
   "cell_type": "raw",
   "id": "e5b9e8c1-16f8-4a46-b680-05551e41d5df",
   "metadata": {},
   "source": [
    "contiguous() 的作用：数据转置之后，内存顺序被打乱了，contiguous() 可以将数据复制到一个新的内存位置，使内存顺序重新连续起来。"
   ]
  },
  {
   "cell_type": "code",
   "execution_count": 68,
   "id": "63c3f47f-15dc-4545-800b-2ea7a533d73f",
   "metadata": {},
   "outputs": [
    {
     "data": {
      "text/plain": [
       "(torch.Size([4, 1, 28, 28]), torch.Size([4, 1, 28, 28]))"
      ]
     },
     "execution_count": 68,
     "metadata": {},
     "output_type": "execute_result"
    }
   ],
   "source": [
    "a1.shape, a2.shape"
   ]
  },
  {
   "cell_type": "code",
   "execution_count": 69,
   "id": "cb441793-d298-4292-92f0-c738dd7d9d99",
   "metadata": {},
   "outputs": [
    {
     "data": {
      "text/plain": [
       "(tensor(False), tensor(True))"
      ]
     },
     "execution_count": 69,
     "metadata": {},
     "output_type": "execute_result"
    }
   ],
   "source": [
    "# 检查 a1, a2 与 a 是否相同\n",
    "torch.all(torch.eq(a1, a)), torch.all(torch.eq(a2, a))"
   ]
  },
  {
   "cell_type": "raw",
   "id": "9e70b663-e4ec-4763-9c8e-75dea4d7ed3e",
   "metadata": {},
   "source": [
    "torch.eq(a1, a)：这个函数比较 a1 中的每个元素与 a 中的每个元素，返回一个同样形状的布尔张量，其中元素为 True 表示 a1 中对应的元素等于 a，False 表示不等于。\n",
    "torch.all(...)：这个函数检查传入的布尔张量中的所有元素是否都是 True。如果是，返回 True；否则返回 False。"
   ]
  },
  {
   "cell_type": "markdown",
   "id": "886a160c-b877-46c5-91a0-7594d3e07dc6",
   "metadata": {},
   "source": [
    "## 4.8 permute(): 交换维度 size"
   ]
  },
  {
   "cell_type": "raw",
   "id": "771e0394-fd5b-4066-9feb-cd33b5ec434f",
   "metadata": {},
   "source": [
    "transpose() 只能实现两个维度的交换，permute() 可以实现张量多个维度的交换（可以理解为多次 transpose() 交换），返回输入张量的转置版本。"
   ]
  },
  {
   "cell_type": "code",
   "execution_count": 70,
   "id": "2fa87178-60b2-4769-8f98-3c4bc2932cde",
   "metadata": {},
   "outputs": [
    {
     "data": {
      "text/plain": [
       "torch.Size([4, 1, 28, 28])"
      ]
     },
     "execution_count": 70,
     "metadata": {},
     "output_type": "execute_result"
    }
   ],
   "source": [
    "a.shape"
   ]
  },
  {
   "cell_type": "code",
   "execution_count": 71,
   "id": "65703138-7fd7-4a01-bb4a-af81ced646f8",
   "metadata": {},
   "outputs": [
    {
     "data": {
      "text/plain": [
       "(torch.Size([4, 28, 28, 1]), torch.Size([4, 28, 28, 1]), tensor(True))"
      ]
     },
     "execution_count": 71,
     "metadata": {},
     "output_type": "execute_result"
    }
   ],
   "source": [
    "# 将第二个维度移至最后面\n",
    "# 使用 transpose()\n",
    "A1 = a.transpose(1, 2).transpose(2, 3)\n",
    "\n",
    "# 使用 permute()\n",
    "A2 = a.permute(0, 2, 3, 1)\n",
    "\n",
    "A1.shape, A2.shape, torch.all(torch.eq(A1, A2))"
   ]
  },
  {
   "cell_type": "markdown",
   "id": "3a1a4c23-a331-42ae-80c5-0c0872906061",
   "metadata": {},
   "source": [
    "# 5. 合并与分割"
   ]
  },
  {
   "cell_type": "markdown",
   "id": "d44a2bf3-7d90-4c45-a77c-87104c925a5a",
   "metadata": {},
   "source": [
    "## 5.1 cat()"
   ]
  },
  {
   "cell_type": "raw",
   "id": "7c9e07f2-7bab-4048-a1b8-d8be3a15a8c8",
   "metadata": {},
   "source": [
    "cat：在某一维度上对两个张量进行合并，不创建新的维度，要求张量其他维度的 size 须相等。"
   ]
  },
  {
   "cell_type": "code",
   "execution_count": 72,
   "id": "aacf4083-fbaf-4417-a2ba-5e94ded015f3",
   "metadata": {},
   "outputs": [
    {
     "data": {
      "text/plain": [
       "torch.Size([9, 32, 8])"
      ]
     },
     "execution_count": 72,
     "metadata": {},
     "output_type": "execute_result"
    }
   ],
   "source": [
    "a = torch.rand(4, 32, 8)\n",
    "b = torch.rand(5, 32, 8)\n",
    "\n",
    "torch.cat([a,b], dim=0).shape"
   ]
  },
  {
   "cell_type": "markdown",
   "id": "760511d0-8c22-4396-bf38-fd14fe4fcdcd",
   "metadata": {},
   "source": [
    "## 5.2 stack()"
   ]
  },
  {
   "cell_type": "raw",
   "id": "9d39fa04-c917-4672-a57e-b9939dbb1648",
   "metadata": {},
   "source": [
    "stack：对两个张量进行合并时创建一个新的维度，新维度的意义由自己指定，要求张量各个维度的 size 须相等。"
   ]
  },
  {
   "cell_type": "code",
   "execution_count": 73,
   "id": "98479df7-6aa3-4559-b605-e7f4bf5c96ef",
   "metadata": {},
   "outputs": [
    {
     "data": {
      "text/plain": [
       "torch.Size([2, 4, 32, 8])"
      ]
     },
     "execution_count": 73,
     "metadata": {},
     "output_type": "execute_result"
    }
   ],
   "source": [
    "a = torch.rand(4, 32, 8)\n",
    "b = torch.rand(4, 32, 8)\n",
    "\n",
    "torch.stack([a,b], dim=0).shape"
   ]
  },
  {
   "cell_type": "markdown",
   "id": "4ab62a3f-1ce0-4605-ae78-ad9989ada894",
   "metadata": {},
   "source": [
    "## 5.3 split()"
   ]
  },
  {
   "cell_type": "raw",
   "id": "3a46177a-324c-4953-8bb2-8e5ba674f031",
   "metadata": {},
   "source": [
    "split：既可以指定拆分的 step 长度，也可以指定拆分得到的各块的数量。"
   ]
  },
  {
   "cell_type": "code",
   "execution_count": 74,
   "id": "cb02e3c0-37b5-4147-93e4-30e066e9cd6c",
   "metadata": {},
   "outputs": [],
   "source": [
    "a = torch.rand(6, 32, 8)"
   ]
  },
  {
   "cell_type": "code",
   "execution_count": 75,
   "id": "70254132-449f-44fa-a613-55140182e83a",
   "metadata": {},
   "outputs": [
    {
     "data": {
      "text/plain": [
       "(torch.Size([2, 32, 8]), torch.Size([2, 32, 8]), torch.Size([2, 32, 8]))"
      ]
     },
     "execution_count": 75,
     "metadata": {},
     "output_type": "execute_result"
    }
   ],
   "source": [
    "# 指定 step=2\n",
    "a1, a2, a3 = a.split(2, dim=0)\n",
    "a1.shape, a2.shape, a3.shape"
   ]
  },
  {
   "cell_type": "code",
   "execution_count": 76,
   "id": "5db46554-7161-4c9e-a602-6bd3d9a69f07",
   "metadata": {},
   "outputs": [
    {
     "data": {
      "text/plain": [
       "(torch.Size([1, 32, 8]), torch.Size([2, 32, 8]), torch.Size([3, 32, 8]))"
      ]
     },
     "execution_count": 76,
     "metadata": {},
     "output_type": "execute_result"
    }
   ],
   "source": [
    "# 指定拆分得到的各块的数量\n",
    "a1, a2, a3 = a.split([1,2,3], dim=0)\n",
    "a1.shape, a2.shape, a3.shape"
   ]
  },
  {
   "cell_type": "markdown",
   "id": "5fa6a7a6-87d9-4300-a43c-30d8f5931caa",
   "metadata": {},
   "source": [
    "## 5.4 chunk()"
   ]
  },
  {
   "cell_type": "markdown",
   "id": "d0a09468-1f01-4e68-a6a8-9f93423904bb",
   "metadata": {},
   "source": [
    "chunk：直接指定要拆分为几块，被拆分的维度的 size 须被指定的数整除。"
   ]
  },
  {
   "cell_type": "code",
   "execution_count": 77,
   "id": "47db1241-80d7-4480-9bd1-58f712cd695a",
   "metadata": {},
   "outputs": [],
   "source": [
    "a = torch.rand(6, 32, 8)"
   ]
  },
  {
   "cell_type": "code",
   "execution_count": 78,
   "id": "26e5b4b9-bd3b-4056-98ae-8ece52942f6b",
   "metadata": {},
   "outputs": [
    {
     "data": {
      "text/plain": [
       "(torch.Size([3, 32, 8]), torch.Size([3, 32, 8]))"
      ]
     },
     "execution_count": 78,
     "metadata": {},
     "output_type": "execute_result"
    }
   ],
   "source": [
    "a1, a2 = a.chunk(2, dim=0)  # 拆分为 2 块\n",
    "a1.shape, a2.shape"
   ]
  },
  {
   "cell_type": "markdown",
   "id": "b4347707-6716-490f-99a9-9c715d38c426",
   "metadata": {},
   "source": [
    "# 6. 数学运算"
   ]
  },
  {
   "cell_type": "markdown",
   "id": "88feb6d1-a789-417f-9949-11d495a9faa3",
   "metadata": {},
   "source": [
    "## 6.1 加减乘除"
   ]
  },
  {
   "cell_type": "raw",
   "id": "0105e703-0148-48df-89e6-b2a96e6b453b",
   "metadata": {},
   "source": [
    "张量的加减除可以直接使用 + - /\n",
    "乘法：* 表示两个张量的对位元素相乘（element-wise）；@ 和 torch.matmul() 表示矩阵乘法。"
   ]
  },
  {
   "cell_type": "code",
   "execution_count": 79,
   "id": "571e0730-dba2-4177-a150-0fca42018027",
   "metadata": {},
   "outputs": [
    {
     "data": {
      "text/plain": [
       "(tensor([[2, 2, 2],\n",
       "         [2, 2, 2]]),\n",
       " tensor([[3, 3, 3],\n",
       "         [3, 3, 3]]),\n",
       " tensor([[5, 5, 5],\n",
       "         [5, 5, 5]]),\n",
       " tensor([[1, 1, 1],\n",
       "         [1, 1, 1]]),\n",
       " tensor([[1.5000, 1.5000, 1.5000],\n",
       "         [1.5000, 1.5000, 1.5000]]),\n",
       " tensor([[6, 6, 6],\n",
       "         [6, 6, 6]]),\n",
       " tensor([[18, 18],\n",
       "         [18, 18]]))"
      ]
     },
     "execution_count": 79,
     "metadata": {},
     "output_type": "execute_result"
    }
   ],
   "source": [
    "a = torch.full([2,3], 2)\n",
    "b = torch.full([2,3], 3)\n",
    "\n",
    "a, b, a+b, b-a, b/a, a*b, a@b.t()"
   ]
  },
  {
   "cell_type": "markdown",
   "id": "e850d75c-7ff4-4eaf-acbd-a59a0c536438",
   "metadata": {},
   "source": [
    "## 6.2 矩阵乘法"
   ]
  },
  {
   "cell_type": "raw",
   "id": "53689c12-8e10-407a-b35c-b76c7b892751",
   "metadata": {},
   "source": [
    "多维张量的矩阵乘法只看最后两个维度。\n",
    "多维张量的矩阵乘法可以使用 @ 和 torch.matmul()，两者是等价的。"
   ]
  },
  {
   "cell_type": "code",
   "execution_count": 80,
   "id": "94d2a30b-aee0-46c0-bd12-21ad09b511de",
   "metadata": {},
   "outputs": [
    {
     "data": {
      "text/plain": [
       "(torch.Size([4, 3, 28, 32]), torch.Size([4, 3, 28, 32]))"
      ]
     },
     "execution_count": 80,
     "metadata": {},
     "output_type": "execute_result"
    }
   ],
   "source": [
    "a = torch.rand(4, 3, 28, 64)\n",
    "b = torch.rand(4, 3, 64, 32)\n",
    "\n",
    "(a @ b).shape, torch.matmul(a, b).shape"
   ]
  },
  {
   "cell_type": "markdown",
   "id": "64df9780-7bcf-413d-a7c9-6e41459b4fb1",
   "metadata": {},
   "source": [
    "## 6.3 幂运算和 log 运算"
   ]
  },
  {
   "cell_type": "code",
   "execution_count": 81,
   "id": "359ea54c-67cc-494d-a436-dc439f83811d",
   "metadata": {},
   "outputs": [],
   "source": [
    "a = torch.full([2,3], 2)"
   ]
  },
  {
   "cell_type": "code",
   "execution_count": 82,
   "id": "add202ff-5998-41aa-9af8-b97dbf190aa4",
   "metadata": {},
   "outputs": [
    {
     "data": {
      "text/plain": [
       "(tensor([[8, 8, 8],\n",
       "         [8, 8, 8]]),\n",
       " tensor([[8, 8, 8],\n",
       "         [8, 8, 8]]))"
      ]
     },
     "execution_count": 82,
     "metadata": {},
     "output_type": "execute_result"
    }
   ],
   "source": [
    "a.pow(3), a**3"
   ]
  },
  {
   "cell_type": "code",
   "execution_count": 83,
   "id": "483bc8ba-8828-4ada-b7cb-6c9738aec018",
   "metadata": {},
   "outputs": [
    {
     "data": {
      "text/plain": [
       "tensor([[7.3891, 7.3891, 7.3891],\n",
       "        [7.3891, 7.3891, 7.3891]])"
      ]
     },
     "execution_count": 83,
     "metadata": {},
     "output_type": "execute_result"
    }
   ],
   "source": [
    "b = torch.exp(a)  # 以 e 为底数，张量 a 的元素为指数\n",
    "b"
   ]
  },
  {
   "cell_type": "code",
   "execution_count": 84,
   "id": "8dc24a4d-a84e-465f-be90-536137aa6696",
   "metadata": {},
   "outputs": [
    {
     "data": {
      "text/plain": [
       "tensor([[2., 2., 2.],\n",
       "        [2., 2., 2.]])"
      ]
     },
     "execution_count": 84,
     "metadata": {},
     "output_type": "execute_result"
    }
   ],
   "source": [
    "# log 对数运算\n",
    "torch.log(b)  # log 代表 ln，以 2 为底数可以写为 log2，以 10 为底数可以写为 log10"
   ]
  },
  {
   "cell_type": "markdown",
   "id": "1337c4f1-4c33-4921-bab5-bc4dbb5ae435",
   "metadata": {},
   "source": [
    "## 6.4 约数运算"
   ]
  },
  {
   "cell_type": "code",
   "execution_count": 85,
   "id": "0e769347-5ae6-4708-b7d8-a47d476c8c45",
   "metadata": {},
   "outputs": [
    {
     "data": {
      "text/plain": [
       "(tensor(3.), tensor(4.), tensor(3.), tensor(0.1400))"
      ]
     },
     "execution_count": 85,
     "metadata": {},
     "output_type": "execute_result"
    }
   ],
   "source": [
    "# 向下取整，向上取整，返回浮点数的整数部分，返回浮点数的小数部分\n",
    "a = torch.tensor(3.14)\n",
    "a.floor(), a.ceil(), a.trunc(), a.frac()"
   ]
  },
  {
   "cell_type": "code",
   "execution_count": 86,
   "id": "96145ef6-d08e-4732-a682-d9f32dcad195",
   "metadata": {},
   "outputs": [
    {
     "data": {
      "text/plain": [
       "(tensor(3.), tensor(4.))"
      ]
     },
     "execution_count": 86,
     "metadata": {},
     "output_type": "execute_result"
    }
   ],
   "source": [
    "# 四舍五入\n",
    "a = torch.tensor(3.499)\n",
    "b = torch.tensor(3.5)\n",
    "a.round(), b.round()"
   ]
  }
 ],
 "metadata": {
  "kernelspec": {
   "display_name": "Python 3 (ipykernel)",
   "language": "python",
   "name": "python3"
  },
  "language_info": {
   "codemirror_mode": {
    "name": "ipython",
    "version": 3
   },
   "file_extension": ".py",
   "mimetype": "text/x-python",
   "name": "python",
   "nbconvert_exporter": "python",
   "pygments_lexer": "ipython3",
   "version": "3.9.13"
  }
 },
 "nbformat": 4,
 "nbformat_minor": 5
}
