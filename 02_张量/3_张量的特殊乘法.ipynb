{
 "cells": [
  {
   "cell_type": "markdown",
   "id": "50bf9244-3daa-491d-85c0-4db305abce54",
   "metadata": {},
   "source": [
    "# 张量的特殊乘法\n",
    "\n",
    "## 1. 一维张量乘以二维张量\n",
    "\n",
    "- 一维张量的维度须与二维张量第一维的维度相等。\n",
    "- 得到的结果是一维的。"
   ]
  },
  {
   "cell_type": "code",
   "execution_count": 1,
   "id": "34093986-e208-4a16-ae71-47e47ed7ce34",
   "metadata": {},
   "outputs": [
    {
     "data": {
      "text/plain": [
       "tensor([31, 40])"
      ]
     },
     "execution_count": 1,
     "metadata": {},
     "output_type": "execute_result"
    }
   ],
   "source": [
    "import torch\n",
    "\n",
    "a = torch.tensor([2, 3, 4])\n",
    "b = torch.tensor([[1, 2],\n",
    "                  [3, 4],\n",
    "                  [5, 6]])\n",
    "a @ b"
   ]
  },
  {
   "cell_type": "markdown",
   "id": "fd74adc9-a390-4e4c-962c-f5e44d533b44",
   "metadata": {},
   "source": [
    "## 2. 两个三维张量相乘\n",
    "\n",
    "- 两者第一维的维度须相等。\n",
    "- 在第一维上，1与1相乘，2与2相乘；第二维和第三维使用普通的matmul乘法相乘。"
   ]
  },
  {
   "cell_type": "code",
   "execution_count": 2,
   "id": "fce7ab71-dac3-431b-8766-9540afaed57e",
   "metadata": {},
   "outputs": [
    {
     "name": "stdout",
     "output_type": "stream",
     "text": [
      "tensor([[[4, 1, 4, 1, 2, 3],\n",
      "         [3, 1, 1, 3, 3, 4],\n",
      "         [2, 1, 3, 2, 4, 1]],\n",
      "\n",
      "        [[3, 2, 4, 1, 1, 2],\n",
      "         [3, 4, 1, 1, 2, 3],\n",
      "         [3, 3, 1, 4, 2, 2]]]) \n",
      " tensor([[[1, 4, 1],\n",
      "         [2, 4, 3],\n",
      "         [3, 4, 1],\n",
      "         [4, 3, 4],\n",
      "         [4, 2, 2],\n",
      "         [3, 3, 1]],\n",
      "\n",
      "        [[2, 4, 3],\n",
      "         [1, 2, 4],\n",
      "         [4, 3, 2],\n",
      "         [1, 1, 2],\n",
      "         [2, 1, 1],\n",
      "         [2, 3, 2]]]) \n",
      " tensor([[[39, 52, 22],\n",
      "         [44, 47, 29],\n",
      "         [40, 41, 25]],\n",
      "\n",
      "        [[31, 36, 32],\n",
      "         [25, 35, 37],\n",
      "         [25, 33, 37]]])\n"
     ]
    }
   ],
   "source": [
    "# 创建两个张量\n",
    "a = torch.randint(1, 5, [2, 3, 6])\n",
    "b = torch.randint(1, 5, [2, 6, 3])\n",
    "\n",
    "# 进行矩阵乘法\n",
    "result = torch.matmul(a, b)\n",
    "\n",
    "print(a, \"\\n\", b, \"\\n\", result)"
   ]
  }
 ],
 "metadata": {
  "kernelspec": {
   "display_name": "Python 3 (ipykernel)",
   "language": "python",
   "name": "python3"
  },
  "language_info": {
   "codemirror_mode": {
    "name": "ipython",
    "version": 3
   },
   "file_extension": ".py",
   "mimetype": "text/x-python",
   "name": "python",
   "nbconvert_exporter": "python",
   "pygments_lexer": "ipython3",
   "version": "3.9.13"
  }
 },
 "nbformat": 4,
 "nbformat_minor": 5
}
