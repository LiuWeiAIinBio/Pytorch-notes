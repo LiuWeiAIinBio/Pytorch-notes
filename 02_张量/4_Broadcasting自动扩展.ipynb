{
 "cells": [
  {
   "attachments": {},
   "cell_type": "markdown",
   "id": "4880a629-b8ad-48b9-93af-744f05f813d2",
   "metadata": {},
   "source": [
    "**介绍：**\n",
    "- 若计算对象维度不同，自动扩展维度；\n",
    "- 扩展的时候不需要拷贝数据，节约内存；\n",
    "- 没有函数，是默认的机制。\n",
    "\n",
    "**原理介绍：**\n",
    "\n",
    "举例：将`[32, 1, 1]`扩展为`[4, 32, 14, 14]`\n",
    "- 首先从右侧匹配小维度（左边是大维度，右边是小维度），前者在第一维是空的，补为1，得到`[1, 32, 1, 1]`；\n",
    "- 然后将size为1的维度扩展到相同的，即`[1, 32, 1, 1]`扩展为`[4, 32, 14, 14]`。\n",
    "- 若匹配后，维度不为空，且维度的size不相等也不为1，则无法使用Broadcasting自动扩展。即`[32, 1, 4]`无法通过使用Broadcasting扩展为`[4, 32, 14, 14]`。\n",
    "\n",
    "**图示原理：**\n",
    "![image.png](图1.png)"
   ]
  }
 ],
 "metadata": {
  "kernelspec": {
   "display_name": "Python 3 (ipykernel)",
   "language": "python",
   "name": "python3"
  },
  "language_info": {
   "codemirror_mode": {
    "name": "ipython",
    "version": 3
   },
   "file_extension": ".py",
   "mimetype": "text/x-python",
   "name": "python",
   "nbconvert_exporter": "python",
   "pygments_lexer": "ipython3",
   "version": "3.9.13"
  }
 },
 "nbformat": 4,
 "nbformat_minor": 5
}
